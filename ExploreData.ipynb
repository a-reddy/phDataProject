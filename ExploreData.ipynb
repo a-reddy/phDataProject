{
 "cells": [
  {
   "cell_type": "code",
   "execution_count": 150,
   "id": "e4cd9b55-f005-4de3-b0bc-8b8e9e1c6f1c",
   "metadata": {},
   "outputs": [],
   "source": [
    "import pandas as pd\n",
    "import numpy as np\n",
    "import matplotlib.pyplot as plt\n",
    "import seaborn as sns\n",
    "from scipy.stats import chi2_contingency\n",
    "from scipy.stats.contingency import association"
   ]
  },
  {
   "cell_type": "code",
   "execution_count": 273,
   "id": "14b8c77c-52ea-4374-8106-1357848f201b",
   "metadata": {},
   "outputs": [],
   "source": [
    "data = pd.read_csv(\"project_data.csv\")"
   ]
  },
  {
   "cell_type": "markdown",
   "id": "21acda79-9538-480c-8cb0-42e31d670fa0",
   "metadata": {},
   "source": [
    "### Data Summary"
   ]
  },
  {
   "cell_type": "code",
   "execution_count": 5,
   "id": "05c059f9-ec8e-4760-8ffd-3a48ec0cc162",
   "metadata": {},
   "outputs": [
    {
     "name": "stdout",
     "output_type": "stream",
     "text": [
      "<class 'pandas.core.frame.DataFrame'>\n",
      "RangeIndex: 41188 entries, 0 to 41187\n",
      "Data columns (total 23 columns):\n",
      " #   Column           Non-Null Count  Dtype  \n",
      "---  ------           --------------  -----  \n",
      " 0   age              41188 non-null  int64  \n",
      " 1   b1               41188 non-null  object \n",
      " 2   b2               40198 non-null  object \n",
      " 3   c10              41188 non-null  object \n",
      " 4   c3               41188 non-null  object \n",
      " 5   c4               41188 non-null  object \n",
      " 6   c8               5625 non-null   object \n",
      " 7   dow              41188 non-null  object \n",
      " 8   employment       41188 non-null  object \n",
      " 9   i1               41188 non-null  float64\n",
      " 10  i2               41188 non-null  float64\n",
      " 11  i3               41188 non-null  float64\n",
      " 12  i4               41188 non-null  float64\n",
      " 13  i5               41188 non-null  float64\n",
      " 14  marriage-status  41108 non-null  object \n",
      " 15  month            41188 non-null  object \n",
      " 16  n2               41188 non-null  int64  \n",
      " 17  n3               41188 non-null  int64  \n",
      " 18  n4               41188 non-null  int64  \n",
      " 19  n5               41188 non-null  float64\n",
      " 20  n6               41188 non-null  int64  \n",
      " 21  school           39457 non-null  object \n",
      " 22  successful_sell  41188 non-null  object \n",
      "dtypes: float64(6), int64(5), object(12)\n",
      "memory usage: 7.2+ MB\n"
     ]
    }
   ],
   "source": [
    "data.info()\n",
    "#Varibles with null values\n",
    "#b2, c8, marriage-status, school"
   ]
  },
  {
   "cell_type": "code",
   "execution_count": 132,
   "id": "cb7b1df5-995a-422a-a2b5-d65bc46e0003",
   "metadata": {},
   "outputs": [
    {
     "data": {
      "text/plain": [
       "0"
      ]
     },
     "execution_count": 132,
     "metadata": {},
     "output_type": "execute_result"
    }
   ],
   "source": [
    "#Check for duplicate rows\n",
    "duplicates = data.duplicated()\n",
    "len(data[duplicates])"
   ]
  },
  {
   "cell_type": "markdown",
   "id": "f8b19829-a921-4b57-a328-b8abe9b74edf",
   "metadata": {},
   "source": [
    "### Target Outcome - Successful Sale"
   ]
  },
  {
   "cell_type": "code",
   "execution_count": 30,
   "id": "c59b4922-646e-4d2f-be83-8c752ac0096c",
   "metadata": {},
   "outputs": [
    {
     "data": {
      "text/plain": [
       "successful_sell\n",
       "no     36548\n",
       "yes     4640\n",
       "Name: count, dtype: int64"
      ]
     },
     "execution_count": 30,
     "metadata": {},
     "output_type": "execute_result"
    }
   ],
   "source": [
    "data['successful_sell'].value_counts()"
   ]
  },
  {
   "cell_type": "code",
   "execution_count": 109,
   "id": "da8e8d81-607b-4080-bc92-6293706a495a",
   "metadata": {},
   "outputs": [
    {
     "data": {
      "text/plain": [
       "0.11265417111780131"
      ]
     },
     "execution_count": 109,
     "metadata": {},
     "output_type": "execute_result"
    }
   ],
   "source": [
    "#Outcome is imbalanced, but not rare. Approximately 8 to 1. Conversion Rate 11.26%\n",
    "4640/(4640+36548)"
   ]
  },
  {
   "cell_type": "markdown",
   "id": "ce9a9910-acf4-46ba-985b-f09054eec1e9",
   "metadata": {},
   "source": [
    "### Define Functions"
   ]
  },
  {
   "cell_type": "code",
   "execution_count": 89,
   "id": "3e73da92-8a36-4b45-82bc-f64f9e152eaf",
   "metadata": {},
   "outputs": [],
   "source": [
    "#summarizes for categorical variable\n",
    "def conversion_table(data,var):\n",
    "    x = pd.crosstab(data[var],data['successful_sell'], dropna = False)\n",
    "    x['total'] = x['yes']+x['no']\n",
    "    x['conversion_rate'] = 100*x['yes']/(x['yes']+x['no'])\n",
    "\n",
    "    return x"
   ]
  },
  {
   "cell_type": "code",
   "execution_count": 281,
   "id": "a5a7d9a2-6b96-4e66-8dc2-85a95225afab",
   "metadata": {},
   "outputs": [],
   "source": [
    "def barlineplot(plot_data, rate_lim = 100):\n",
    "    plot_data[['yes','no']].plot(kind = 'bar', stacked = True, color = ['tab:orange','tab:blue'])\n",
    "\n",
    "    plt.ylabel(\"Count\")\n",
    "    \n",
    "    axes2 = plt.twinx()\n",
    "    axes2.plot(plot_data.index, plot_data['conversion_rate'], color='k', marker = 'o')\n",
    "    axes2.set_ylim(0, rate_lim)\n",
    "    axes2.set_ylabel('Sales %')\n",
    "    \n",
    "    plt.show()"
   ]
  },
  {
   "cell_type": "code",
   "execution_count": 295,
   "id": "150b4505-39f3-474e-b992-e902e1c129cd",
   "metadata": {},
   "outputs": [],
   "source": [
    "def lp(x, variable):\n",
    "    plt.plot(x.index, x['conversion_rate'], color='k', marker = 'o')\n",
    "    plt.xlabel(variable)\n",
    "    plt.ylabel('Sales %')"
   ]
  },
  {
   "cell_type": "markdown",
   "id": "a4ddca8a-6ed4-4db7-8644-1e3ee6246eb6",
   "metadata": {},
   "source": [
    "## Features"
   ]
  },
  {
   "cell_type": "markdown",
   "id": "076b7624-fbda-45b9-9dad-b1264c16bde9",
   "metadata": {},
   "source": [
    "### Age"
   ]
  },
  {
   "cell_type": "code",
   "execution_count": 10,
   "id": "8b05eb33-49a6-4381-9daa-83775c5cbcb8",
   "metadata": {},
   "outputs": [
    {
     "data": {
      "text/plain": [
       "count    41188.00000\n",
       "mean        40.02406\n",
       "std         10.42125\n",
       "min         17.00000\n",
       "25%         32.00000\n",
       "50%         38.00000\n",
       "75%         47.00000\n",
       "max         98.00000\n",
       "Name: age, dtype: float64"
      ]
     },
     "execution_count": 10,
     "metadata": {},
     "output_type": "execute_result"
    }
   ],
   "source": [
    "data['age'].describe()"
   ]
  },
  {
   "cell_type": "code",
   "execution_count": 243,
   "id": "0ef1028c-042e-4a6d-9657-76b3331dac98",
   "metadata": {},
   "outputs": [
    {
     "data": {
      "text/plain": [
       "<Axes: xlabel='age', ylabel='Count'>"
      ]
     },
     "execution_count": 243,
     "metadata": {},
     "output_type": "execute_result"
    },
    {
     "data": {
      "image/png": "[encoded data removed]",
      "text/plain": [
       "<Figure size 640x480 with 1 Axes>"
      ]
     },
     "metadata": {},
     "output_type": "display_data"
    }
   ],
   "source": [
    "sns.histplot(data=data, x=\"age\", hue=\"successful_sell\", multiple = \"stack\",bins = 80)"
   ]
  },
  {
   "cell_type": "code",
   "execution_count": 325,
   "id": "fda01f58-b527-4f58-9fb1-fbba5ae9979d",
   "metadata": {},
   "outputs": [],
   "source": [
    "x = conversion_table(data,'age')"
   ]
  },
  {
   "cell_type": "code",
   "execution_count": 326,
   "id": "1bc70dff-59cf-47bb-894a-f19a7bd740a4",
   "metadata": {},
   "outputs": [
    {
     "data": {
      "image/png": "[encoded data removed]",
      "text/plain": [
       "<Figure size 640x480 with 1 Axes>"
      ]
     },
     "metadata": {},
     "output_type": "display_data"
    }
   ],
   "source": [
    "lp(x,'Age')"
   ]
  },
  {
   "cell_type": "markdown",
   "id": "1df55f3e-d45d-4d8b-8714-5e761066f328",
   "metadata": {},
   "source": [
    "### b1"
   ]
  },
  {
   "cell_type": "code",
   "execution_count": 84,
   "id": "b2eb616b-d3f5-4869-b94a-7bca341bb723",
   "metadata": {},
   "outputs": [
    {
     "data": {
      "text/html": [
       "<div>\n",
       "<style scoped>\n",
       "    .dataframe tbody tr th:only-of-type {\n",
       "        vertical-align: middle;\n",
       "    }\n",
       "\n",
       "    .dataframe tbody tr th {\n",
       "        vertical-align: top;\n",
       "    }\n",
       "\n",
       "    .dataframe thead th {\n",
       "        text-align: right;\n",
       "    }\n",
       "</style>\n",
       "<table border=\"1\" class=\"dataframe\">\n",
       "  <thead>\n",
       "    <tr style=\"text-align: right;\">\n",
       "      <th>successful_sell</th>\n",
       "      <th>no</th>\n",
       "      <th>yes</th>\n",
       "      <th>total</th>\n",
       "      <th>conversion_rate</th>\n",
       "    </tr>\n",
       "    <tr>\n",
       "      <th>b1</th>\n",
       "      <th></th>\n",
       "      <th></th>\n",
       "      <th></th>\n",
       "      <th></th>\n",
       "    </tr>\n",
       "  </thead>\n",
       "  <tbody>\n",
       "    <tr>\n",
       "      <th>-1</th>\n",
       "      <td>883</td>\n",
       "      <td>107</td>\n",
       "      <td>990</td>\n",
       "      <td>10.808081</td>\n",
       "    </tr>\n",
       "    <tr>\n",
       "      <th>no</th>\n",
       "      <td>16596</td>\n",
       "      <td>2026</td>\n",
       "      <td>18622</td>\n",
       "      <td>10.879605</td>\n",
       "    </tr>\n",
       "    <tr>\n",
       "      <th>yes</th>\n",
       "      <td>19069</td>\n",
       "      <td>2507</td>\n",
       "      <td>21576</td>\n",
       "      <td>11.619392</td>\n",
       "    </tr>\n",
       "  </tbody>\n",
       "</table>\n",
       "</div>"
      ],
      "text/plain": [
       "successful_sell     no   yes  total  conversion_rate\n",
       "b1                                                  \n",
       "-1                 883   107    990        10.808081\n",
       "no               16596  2026  18622        10.879605\n",
       "yes              19069  2507  21576        11.619392"
      ]
     },
     "execution_count": 84,
     "metadata": {},
     "output_type": "execute_result"
    }
   ],
   "source": [
    "conversion_table(data,'b1')"
   ]
  },
  {
   "cell_type": "markdown",
   "id": "9865fb39-0b0c-461c-9713-4fc6ddc24db3",
   "metadata": {},
   "source": [
    "### b2"
   ]
  },
  {
   "cell_type": "code",
   "execution_count": 91,
   "id": "b175a3c2-39eb-436c-aa0a-c942481a66a5",
   "metadata": {},
   "outputs": [
    {
     "data": {
      "text/html": [
       "<div>\n",
       "<style scoped>\n",
       "    .dataframe tbody tr th:only-of-type {\n",
       "        vertical-align: middle;\n",
       "    }\n",
       "\n",
       "    .dataframe tbody tr th {\n",
       "        vertical-align: top;\n",
       "    }\n",
       "\n",
       "    .dataframe thead th {\n",
       "        text-align: right;\n",
       "    }\n",
       "</style>\n",
       "<table border=\"1\" class=\"dataframe\">\n",
       "  <thead>\n",
       "    <tr style=\"text-align: right;\">\n",
       "      <th>successful_sell</th>\n",
       "      <th>no</th>\n",
       "      <th>yes</th>\n",
       "      <th>total</th>\n",
       "      <th>conversion_rate</th>\n",
       "    </tr>\n",
       "    <tr>\n",
       "      <th>b2</th>\n",
       "      <th></th>\n",
       "      <th></th>\n",
       "      <th></th>\n",
       "      <th></th>\n",
       "    </tr>\n",
       "  </thead>\n",
       "  <tbody>\n",
       "    <tr>\n",
       "      <th>no</th>\n",
       "      <td>30100</td>\n",
       "      <td>3850</td>\n",
       "      <td>33950</td>\n",
       "      <td>11.340206</td>\n",
       "    </tr>\n",
       "    <tr>\n",
       "      <th>yes</th>\n",
       "      <td>5565</td>\n",
       "      <td>683</td>\n",
       "      <td>6248</td>\n",
       "      <td>10.931498</td>\n",
       "    </tr>\n",
       "    <tr>\n",
       "      <th>NaN</th>\n",
       "      <td>883</td>\n",
       "      <td>107</td>\n",
       "      <td>990</td>\n",
       "      <td>10.808081</td>\n",
       "    </tr>\n",
       "  </tbody>\n",
       "</table>\n",
       "</div>"
      ],
      "text/plain": [
       "successful_sell     no   yes  total  conversion_rate\n",
       "b2                                                  \n",
       "no               30100  3850  33950        11.340206\n",
       "yes               5565   683   6248        10.931498\n",
       "NaN                883   107    990        10.808081"
      ]
     },
     "execution_count": 91,
     "metadata": {},
     "output_type": "execute_result"
    }
   ],
   "source": [
    "conversion_table(data,'b2')"
   ]
  },
  {
   "cell_type": "markdown",
   "id": "8debc62b-e48d-4dec-8662-7b5bdaefb54e",
   "metadata": {},
   "source": [
    "### b1 - b2"
   ]
  },
  {
   "cell_type": "code",
   "execution_count": 114,
   "id": "1bd8ec20-7ddd-4b25-a3f6-00b53f42b02d",
   "metadata": {},
   "outputs": [
    {
     "data": {
      "text/html": [
       "<div>\n",
       "<style scoped>\n",
       "    .dataframe tbody tr th:only-of-type {\n",
       "        vertical-align: middle;\n",
       "    }\n",
       "\n",
       "    .dataframe tbody tr th {\n",
       "        vertical-align: top;\n",
       "    }\n",
       "\n",
       "    .dataframe thead th {\n",
       "        text-align: right;\n",
       "    }\n",
       "</style>\n",
       "<table border=\"1\" class=\"dataframe\">\n",
       "  <thead>\n",
       "    <tr style=\"text-align: right;\">\n",
       "      <th>b2</th>\n",
       "      <th>no</th>\n",
       "      <th>yes</th>\n",
       "      <th>NaN</th>\n",
       "    </tr>\n",
       "    <tr>\n",
       "      <th>b1</th>\n",
       "      <th></th>\n",
       "      <th></th>\n",
       "      <th></th>\n",
       "    </tr>\n",
       "  </thead>\n",
       "  <tbody>\n",
       "    <tr>\n",
       "      <th>-1</th>\n",
       "      <td>0</td>\n",
       "      <td>0</td>\n",
       "      <td>990</td>\n",
       "    </tr>\n",
       "    <tr>\n",
       "      <th>no</th>\n",
       "      <td>16065</td>\n",
       "      <td>2557</td>\n",
       "      <td>0</td>\n",
       "    </tr>\n",
       "    <tr>\n",
       "      <th>yes</th>\n",
       "      <td>17885</td>\n",
       "      <td>3691</td>\n",
       "      <td>0</td>\n",
       "    </tr>\n",
       "  </tbody>\n",
       "</table>\n",
       "</div>"
      ],
      "text/plain": [
       "b2      no   yes  NaN\n",
       "b1                   \n",
       "-1       0     0  990\n",
       "no   16065  2557    0\n",
       "yes  17885  3691    0"
      ]
     },
     "execution_count": 114,
     "metadata": {},
     "output_type": "execute_result"
    }
   ],
   "source": [
    "pd.crosstab(data['b1'],data['b2'], dropna = False)"
   ]
  },
  {
   "cell_type": "code",
   "execution_count": 318,
   "id": "0cd8fa05-0d8e-4f7a-8f17-a0d4e9b0c9b8",
   "metadata": {},
   "outputs": [
    {
     "name": "stdout",
     "output_type": "stream",
     "text": [
      "Chi2 =  86.51910294284156\n",
      "p-Value =  1.3839401847144125e-20\n"
     ]
    }
   ],
   "source": [
    "#Check Relationship to each other\n",
    "res = chi2_contingency(pd.crosstab(data['b1'],data['b2']))\n",
    "print(\"Chi2 = \",res.statistic)\n",
    "print(\"p-Value = \", res.pvalue)"
   ]
  },
  {
   "cell_type": "code",
   "execution_count": 126,
   "id": "dc3c16af-0241-4533-b404-ec9e0f45b2fb",
   "metadata": {},
   "outputs": [
    {
     "data": {
      "text/plain": [
       "0.04646198849528686"
      ]
     },
     "execution_count": 126,
     "metadata": {},
     "output_type": "execute_result"
    }
   ],
   "source": [
    "#Cramer's V\n",
    "association(pd.crosstab(data['b1'],data['b2']))"
   ]
  },
  {
   "cell_type": "markdown",
   "id": "950a4c33-76d1-4154-8169-483fd755054a",
   "metadata": {},
   "source": [
    "### c10"
   ]
  },
  {
   "cell_type": "code",
   "execution_count": null,
   "id": "206cda87-5cff-4da7-ac8a-8cd8e68cfe59",
   "metadata": {},
   "outputs": [],
   "source": [
    "# This is a copy of the outcome variable"
   ]
  },
  {
   "cell_type": "code",
   "execution_count": 83,
   "id": "7f55c5d8-e38f-4034-8f58-a2ff3a4a2f0c",
   "metadata": {},
   "outputs": [
    {
     "data": {
      "text/html": [
       "<div>\n",
       "<style scoped>\n",
       "    .dataframe tbody tr th:only-of-type {\n",
       "        vertical-align: middle;\n",
       "    }\n",
       "\n",
       "    .dataframe tbody tr th {\n",
       "        vertical-align: top;\n",
       "    }\n",
       "\n",
       "    .dataframe thead th {\n",
       "        text-align: right;\n",
       "    }\n",
       "</style>\n",
       "<table border=\"1\" class=\"dataframe\">\n",
       "  <thead>\n",
       "    <tr style=\"text-align: right;\">\n",
       "      <th>successful_sell</th>\n",
       "      <th>no</th>\n",
       "      <th>yes</th>\n",
       "      <th>total</th>\n",
       "      <th>conversion_rate</th>\n",
       "    </tr>\n",
       "    <tr>\n",
       "      <th>c10</th>\n",
       "      <th></th>\n",
       "      <th></th>\n",
       "      <th></th>\n",
       "      <th></th>\n",
       "    </tr>\n",
       "  </thead>\n",
       "  <tbody>\n",
       "    <tr>\n",
       "      <th>no</th>\n",
       "      <td>36548</td>\n",
       "      <td>0</td>\n",
       "      <td>36548</td>\n",
       "      <td>0.0</td>\n",
       "    </tr>\n",
       "    <tr>\n",
       "      <th>yes</th>\n",
       "      <td>0</td>\n",
       "      <td>4640</td>\n",
       "      <td>4640</td>\n",
       "      <td>100.0</td>\n",
       "    </tr>\n",
       "  </tbody>\n",
       "</table>\n",
       "</div>"
      ],
      "text/plain": [
       "successful_sell     no   yes  total  conversion_rate\n",
       "c10                                                 \n",
       "no               36548     0  36548              0.0\n",
       "yes                  0  4640   4640            100.0"
      ]
     },
     "execution_count": 83,
     "metadata": {},
     "output_type": "execute_result"
    }
   ],
   "source": [
    "conversion_table(data,'c10')"
   ]
  },
  {
   "cell_type": "markdown",
   "id": "c77f27f0-2b8f-46f7-b739-751e76cbfead",
   "metadata": {},
   "source": [
    "### c3"
   ]
  },
  {
   "cell_type": "code",
   "execution_count": 86,
   "id": "f8fc6a9c-3f9c-4b2f-bee7-f8d5d6bf8e15",
   "metadata": {},
   "outputs": [
    {
     "data": {
      "text/html": [
       "<div>\n",
       "<style scoped>\n",
       "    .dataframe tbody tr th:only-of-type {\n",
       "        vertical-align: middle;\n",
       "    }\n",
       "\n",
       "    .dataframe tbody tr th {\n",
       "        vertical-align: top;\n",
       "    }\n",
       "\n",
       "    .dataframe thead th {\n",
       "        text-align: right;\n",
       "    }\n",
       "</style>\n",
       "<table border=\"1\" class=\"dataframe\">\n",
       "  <thead>\n",
       "    <tr style=\"text-align: right;\">\n",
       "      <th>successful_sell</th>\n",
       "      <th>no</th>\n",
       "      <th>yes</th>\n",
       "      <th>total</th>\n",
       "      <th>conversion_rate</th>\n",
       "    </tr>\n",
       "    <tr>\n",
       "      <th>c3</th>\n",
       "      <th></th>\n",
       "      <th></th>\n",
       "      <th></th>\n",
       "      <th></th>\n",
       "    </tr>\n",
       "  </thead>\n",
       "  <tbody>\n",
       "    <tr>\n",
       "      <th>False</th>\n",
       "      <td>28391</td>\n",
       "      <td>4197</td>\n",
       "      <td>32588</td>\n",
       "      <td>12.878974</td>\n",
       "    </tr>\n",
       "    <tr>\n",
       "      <th>True</th>\n",
       "      <td>3</td>\n",
       "      <td>0</td>\n",
       "      <td>3</td>\n",
       "      <td>0.000000</td>\n",
       "    </tr>\n",
       "    <tr>\n",
       "      <th>unknown</th>\n",
       "      <td>8154</td>\n",
       "      <td>443</td>\n",
       "      <td>8597</td>\n",
       "      <td>5.152960</td>\n",
       "    </tr>\n",
       "  </tbody>\n",
       "</table>\n",
       "</div>"
      ],
      "text/plain": [
       "successful_sell     no   yes  total  conversion_rate\n",
       "c3                                                  \n",
       "False            28391  4197  32588        12.878974\n",
       "True                 3     0      3         0.000000\n",
       "unknown           8154   443   8597         5.152960"
      ]
     },
     "execution_count": 86,
     "metadata": {},
     "output_type": "execute_result"
    }
   ],
   "source": [
    "conversion_table(data,'c3')"
   ]
  },
  {
   "cell_type": "markdown",
   "id": "78fe6f0d-60ee-4d71-bb6a-2e23a4d357ef",
   "metadata": {},
   "source": [
    "### c4"
   ]
  },
  {
   "cell_type": "code",
   "execution_count": 92,
   "id": "022fa218-2cd5-4171-8203-690a6455f7cb",
   "metadata": {},
   "outputs": [
    {
     "data": {
      "text/html": [
       "<div>\n",
       "<style scoped>\n",
       "    .dataframe tbody tr th:only-of-type {\n",
       "        vertical-align: middle;\n",
       "    }\n",
       "\n",
       "    .dataframe tbody tr th {\n",
       "        vertical-align: top;\n",
       "    }\n",
       "\n",
       "    .dataframe thead th {\n",
       "        text-align: right;\n",
       "    }\n",
       "</style>\n",
       "<table border=\"1\" class=\"dataframe\">\n",
       "  <thead>\n",
       "    <tr style=\"text-align: right;\">\n",
       "      <th>successful_sell</th>\n",
       "      <th>no</th>\n",
       "      <th>yes</th>\n",
       "      <th>total</th>\n",
       "      <th>conversion_rate</th>\n",
       "    </tr>\n",
       "    <tr>\n",
       "      <th>c4</th>\n",
       "      <th></th>\n",
       "      <th></th>\n",
       "      <th></th>\n",
       "      <th></th>\n",
       "    </tr>\n",
       "  </thead>\n",
       "  <tbody>\n",
       "    <tr>\n",
       "      <th>new</th>\n",
       "      <td>22291</td>\n",
       "      <td>3853</td>\n",
       "      <td>26144</td>\n",
       "      <td>14.737607</td>\n",
       "    </tr>\n",
       "    <tr>\n",
       "      <th>old</th>\n",
       "      <td>14257</td>\n",
       "      <td>787</td>\n",
       "      <td>15044</td>\n",
       "      <td>5.231321</td>\n",
       "    </tr>\n",
       "  </tbody>\n",
       "</table>\n",
       "</div>"
      ],
      "text/plain": [
       "successful_sell     no   yes  total  conversion_rate\n",
       "c4                                                  \n",
       "new              22291  3853  26144        14.737607\n",
       "old              14257   787  15044         5.231321"
      ]
     },
     "execution_count": 92,
     "metadata": {},
     "output_type": "execute_result"
    }
   ],
   "source": [
    "conversion_table(data,'c4')"
   ]
  },
  {
   "cell_type": "markdown",
   "id": "345eba9a-eb79-476b-bfb0-1e84bcd9f5da",
   "metadata": {},
   "source": [
    "### c8"
   ]
  },
  {
   "cell_type": "code",
   "execution_count": 93,
   "id": "a3ca0ef1-e776-4618-af36-6527ae40aeaa",
   "metadata": {},
   "outputs": [
    {
     "data": {
      "text/html": [
       "<div>\n",
       "<style scoped>\n",
       "    .dataframe tbody tr th:only-of-type {\n",
       "        vertical-align: middle;\n",
       "    }\n",
       "\n",
       "    .dataframe tbody tr th {\n",
       "        vertical-align: top;\n",
       "    }\n",
       "\n",
       "    .dataframe thead th {\n",
       "        text-align: right;\n",
       "    }\n",
       "</style>\n",
       "<table border=\"1\" class=\"dataframe\">\n",
       "  <thead>\n",
       "    <tr style=\"text-align: right;\">\n",
       "      <th>successful_sell</th>\n",
       "      <th>no</th>\n",
       "      <th>yes</th>\n",
       "      <th>total</th>\n",
       "      <th>conversion_rate</th>\n",
       "    </tr>\n",
       "    <tr>\n",
       "      <th>c8</th>\n",
       "      <th></th>\n",
       "      <th></th>\n",
       "      <th></th>\n",
       "      <th></th>\n",
       "    </tr>\n",
       "  </thead>\n",
       "  <tbody>\n",
       "    <tr>\n",
       "      <th>no</th>\n",
       "      <td>3647</td>\n",
       "      <td>605</td>\n",
       "      <td>4252</td>\n",
       "      <td>14.228598</td>\n",
       "    </tr>\n",
       "    <tr>\n",
       "      <th>yes</th>\n",
       "      <td>479</td>\n",
       "      <td>894</td>\n",
       "      <td>1373</td>\n",
       "      <td>65.112891</td>\n",
       "    </tr>\n",
       "    <tr>\n",
       "      <th>NaN</th>\n",
       "      <td>32422</td>\n",
       "      <td>3141</td>\n",
       "      <td>35563</td>\n",
       "      <td>8.832213</td>\n",
       "    </tr>\n",
       "  </tbody>\n",
       "</table>\n",
       "</div>"
      ],
      "text/plain": [
       "successful_sell     no   yes  total  conversion_rate\n",
       "c8                                                  \n",
       "no                3647   605   4252        14.228598\n",
       "yes                479   894   1373        65.112891\n",
       "NaN              32422  3141  35563         8.832213"
      ]
     },
     "execution_count": 93,
     "metadata": {},
     "output_type": "execute_result"
    }
   ],
   "source": [
    "conversion_table(data,'c8')"
   ]
  },
  {
   "cell_type": "markdown",
   "id": "16e3243f-2ba1-4165-86f3-6f646d4d7b5c",
   "metadata": {},
   "source": [
    "### Day of Week"
   ]
  },
  {
   "cell_type": "code",
   "execution_count": 94,
   "id": "7b74bdca-8d3c-4083-a20c-5323421bc23c",
   "metadata": {},
   "outputs": [
    {
     "data": {
      "text/html": [
       "<div>\n",
       "<style scoped>\n",
       "    .dataframe tbody tr th:only-of-type {\n",
       "        vertical-align: middle;\n",
       "    }\n",
       "\n",
       "    .dataframe tbody tr th {\n",
       "        vertical-align: top;\n",
       "    }\n",
       "\n",
       "    .dataframe thead th {\n",
       "        text-align: right;\n",
       "    }\n",
       "</style>\n",
       "<table border=\"1\" class=\"dataframe\">\n",
       "  <thead>\n",
       "    <tr style=\"text-align: right;\">\n",
       "      <th>successful_sell</th>\n",
       "      <th>no</th>\n",
       "      <th>yes</th>\n",
       "      <th>total</th>\n",
       "      <th>conversion_rate</th>\n",
       "    </tr>\n",
       "    <tr>\n",
       "      <th>dow</th>\n",
       "      <th></th>\n",
       "      <th></th>\n",
       "      <th></th>\n",
       "      <th></th>\n",
       "    </tr>\n",
       "  </thead>\n",
       "  <tbody>\n",
       "    <tr>\n",
       "      <th>fri</th>\n",
       "      <td>6981</td>\n",
       "      <td>846</td>\n",
       "      <td>7827</td>\n",
       "      <td>10.808739</td>\n",
       "    </tr>\n",
       "    <tr>\n",
       "      <th>mon</th>\n",
       "      <td>7667</td>\n",
       "      <td>847</td>\n",
       "      <td>8514</td>\n",
       "      <td>9.948320</td>\n",
       "    </tr>\n",
       "    <tr>\n",
       "      <th>thu</th>\n",
       "      <td>7578</td>\n",
       "      <td>1045</td>\n",
       "      <td>8623</td>\n",
       "      <td>12.118752</td>\n",
       "    </tr>\n",
       "    <tr>\n",
       "      <th>tue</th>\n",
       "      <td>7137</td>\n",
       "      <td>953</td>\n",
       "      <td>8090</td>\n",
       "      <td>11.779975</td>\n",
       "    </tr>\n",
       "    <tr>\n",
       "      <th>wed</th>\n",
       "      <td>7185</td>\n",
       "      <td>949</td>\n",
       "      <td>8134</td>\n",
       "      <td>11.667076</td>\n",
       "    </tr>\n",
       "  </tbody>\n",
       "</table>\n",
       "</div>"
      ],
      "text/plain": [
       "successful_sell    no   yes  total  conversion_rate\n",
       "dow                                                \n",
       "fri              6981   846   7827        10.808739\n",
       "mon              7667   847   8514         9.948320\n",
       "thu              7578  1045   8623        12.118752\n",
       "tue              7137   953   8090        11.779975\n",
       "wed              7185   949   8134        11.667076"
      ]
     },
     "execution_count": 94,
     "metadata": {},
     "output_type": "execute_result"
    }
   ],
   "source": [
    "conversion_table(data,'dow')"
   ]
  },
  {
   "cell_type": "code",
   "execution_count": 282,
   "id": "89f1edc6-b0fd-41c7-b691-c606de8fc7a5",
   "metadata": {},
   "outputs": [],
   "source": [
    "#reorder data for plot\n",
    "plot_data = conversion_table(data,'dow')\n",
    "new_order = ['mon', 'tue', 'wed','thu','fri']\n",
    "plot_data = plot_data.reindex(new_order)"
   ]
  },
  {
   "cell_type": "code",
   "execution_count": 283,
   "id": "9652bc0e-a341-43b7-92ae-7c9388ab1e27",
   "metadata": {},
   "outputs": [
    {
     "data": {
      "image/png": "[encoded data removed]",
      "text/plain": [
       "<Figure size 640x480 with 2 Axes>"
      ]
     },
     "metadata": {},
     "output_type": "display_data"
    }
   ],
   "source": [
    "barlineplot(plot_data, 25)"
   ]
  },
  {
   "cell_type": "markdown",
   "id": "7becd756-23a7-4ca4-8330-8441e5a5de6d",
   "metadata": {},
   "source": [
    "### Employment"
   ]
  },
  {
   "cell_type": "code",
   "execution_count": 95,
   "id": "8ec6c2ad-c1a3-477a-92ac-47762ed69f8f",
   "metadata": {},
   "outputs": [
    {
     "data": {
      "text/html": [
       "<div>\n",
       "<style scoped>\n",
       "    .dataframe tbody tr th:only-of-type {\n",
       "        vertical-align: middle;\n",
       "    }\n",
       "\n",
       "    .dataframe tbody tr th {\n",
       "        vertical-align: top;\n",
       "    }\n",
       "\n",
       "    .dataframe thead th {\n",
       "        text-align: right;\n",
       "    }\n",
       "</style>\n",
       "<table border=\"1\" class=\"dataframe\">\n",
       "  <thead>\n",
       "    <tr style=\"text-align: right;\">\n",
       "      <th>successful_sell</th>\n",
       "      <th>no</th>\n",
       "      <th>yes</th>\n",
       "      <th>total</th>\n",
       "      <th>conversion_rate</th>\n",
       "    </tr>\n",
       "    <tr>\n",
       "      <th>employment</th>\n",
       "      <th></th>\n",
       "      <th></th>\n",
       "      <th></th>\n",
       "      <th></th>\n",
       "    </tr>\n",
       "  </thead>\n",
       "  <tbody>\n",
       "    <tr>\n",
       "      <th>assistant</th>\n",
       "      <td>9070</td>\n",
       "      <td>1352</td>\n",
       "      <td>10422</td>\n",
       "      <td>12.972558</td>\n",
       "    </tr>\n",
       "    <tr>\n",
       "      <th>cleaner</th>\n",
       "      <td>954</td>\n",
       "      <td>106</td>\n",
       "      <td>1060</td>\n",
       "      <td>10.000000</td>\n",
       "    </tr>\n",
       "    <tr>\n",
       "      <th>customer service</th>\n",
       "      <td>3646</td>\n",
       "      <td>323</td>\n",
       "      <td>3969</td>\n",
       "      <td>8.138070</td>\n",
       "    </tr>\n",
       "    <tr>\n",
       "      <th>engineer</th>\n",
       "      <td>6013</td>\n",
       "      <td>730</td>\n",
       "      <td>6743</td>\n",
       "      <td>10.826042</td>\n",
       "    </tr>\n",
       "    <tr>\n",
       "      <th>hobbyist</th>\n",
       "      <td>1332</td>\n",
       "      <td>124</td>\n",
       "      <td>1456</td>\n",
       "      <td>8.516484</td>\n",
       "    </tr>\n",
       "    <tr>\n",
       "      <th>laborer</th>\n",
       "      <td>8616</td>\n",
       "      <td>638</td>\n",
       "      <td>9254</td>\n",
       "      <td>6.894316</td>\n",
       "    </tr>\n",
       "    <tr>\n",
       "      <th>leisure</th>\n",
       "      <td>1286</td>\n",
       "      <td>434</td>\n",
       "      <td>1720</td>\n",
       "      <td>25.232558</td>\n",
       "    </tr>\n",
       "    <tr>\n",
       "      <th>management</th>\n",
       "      <td>2596</td>\n",
       "      <td>328</td>\n",
       "      <td>2924</td>\n",
       "      <td>11.217510</td>\n",
       "    </tr>\n",
       "    <tr>\n",
       "      <th>none</th>\n",
       "      <td>870</td>\n",
       "      <td>144</td>\n",
       "      <td>1014</td>\n",
       "      <td>14.201183</td>\n",
       "    </tr>\n",
       "    <tr>\n",
       "      <th>self-employed</th>\n",
       "      <td>1272</td>\n",
       "      <td>149</td>\n",
       "      <td>1421</td>\n",
       "      <td>10.485574</td>\n",
       "    </tr>\n",
       "    <tr>\n",
       "      <th>student</th>\n",
       "      <td>600</td>\n",
       "      <td>275</td>\n",
       "      <td>875</td>\n",
       "      <td>31.428571</td>\n",
       "    </tr>\n",
       "    <tr>\n",
       "      <th>unknown</th>\n",
       "      <td>293</td>\n",
       "      <td>37</td>\n",
       "      <td>330</td>\n",
       "      <td>11.212121</td>\n",
       "    </tr>\n",
       "  </tbody>\n",
       "</table>\n",
       "</div>"
      ],
      "text/plain": [
       "successful_sell     no   yes  total  conversion_rate\n",
       "employment                                          \n",
       "assistant         9070  1352  10422        12.972558\n",
       "cleaner            954   106   1060        10.000000\n",
       "customer service  3646   323   3969         8.138070\n",
       "engineer          6013   730   6743        10.826042\n",
       "hobbyist          1332   124   1456         8.516484\n",
       "laborer           8616   638   9254         6.894316\n",
       "leisure           1286   434   1720        25.232558\n",
       "management        2596   328   2924        11.217510\n",
       "none               870   144   1014        14.201183\n",
       "self-employed     1272   149   1421        10.485574\n",
       "student            600   275    875        31.428571\n",
       "unknown            293    37    330        11.212121"
      ]
     },
     "execution_count": 95,
     "metadata": {},
     "output_type": "execute_result"
    }
   ],
   "source": [
    "conversion_table(data,'employment')"
   ]
  },
  {
   "cell_type": "code",
   "execution_count": 284,
   "id": "0bb692b1-d5d3-4f8c-bf7f-3bd6dc4790ca",
   "metadata": {},
   "outputs": [],
   "source": [
    "#reorder data for plot\n",
    "plot_data = conversion_table(data,'employment')\n",
    "plot_data = plot_data.sort_values(by = 'total', ascending = False)"
   ]
  },
  {
   "cell_type": "code",
   "execution_count": 285,
   "id": "fea680ea-f6d5-4aa3-80bd-9608dfca4b9c",
   "metadata": {},
   "outputs": [
    {
     "data": {
      "image/png": "[encoded data removed]",
      "text/plain": [
       "<Figure size 640x480 with 2 Axes>"
      ]
     },
     "metadata": {},
     "output_type": "display_data"
    }
   ],
   "source": [
    "barlineplot(plot_data,50)"
   ]
  },
  {
   "cell_type": "markdown",
   "id": "cd279912-e1d6-4b15-9017-a4962a6698a4",
   "metadata": {},
   "source": [
    "### i1"
   ]
  },
  {
   "cell_type": "code",
   "execution_count": 103,
   "id": "ae8daaef-3e3b-4d4a-8e26-d888967b146b",
   "metadata": {},
   "outputs": [
    {
     "data": {
      "text/plain": [
       "<Axes: xlabel='i1', ylabel='Count'>"
      ]
     },
     "execution_count": 103,
     "metadata": {},
     "output_type": "execute_result"
    },
    {
     "data": {
      "image/png": "[encoded data removed]",
      "text/plain": [
       "<Figure size 640x480 with 1 Axes>"
      ]
     },
     "metadata": {},
     "output_type": "display_data"
    }
   ],
   "source": [
    "sns.histplot(data, x=\"i1\", hue=\"successful_sell\", multiple = 'stack')"
   ]
  },
  {
   "cell_type": "markdown",
   "id": "90198232-9207-4adc-95a7-14f35ca6730a",
   "metadata": {},
   "source": [
    "### i2"
   ]
  },
  {
   "cell_type": "code",
   "execution_count": 105,
   "id": "e0576ee3-9559-459c-be3f-df33109093b9",
   "metadata": {},
   "outputs": [
    {
     "data": {
      "text/plain": [
       "<Axes: xlabel='i2', ylabel='Count'>"
      ]
     },
     "execution_count": 105,
     "metadata": {},
     "output_type": "execute_result"
    },
    {
     "data": {
      "image/png": "[encoded data removed]",
      "text/plain": [
       "<Figure size 640x480 with 1 Axes>"
      ]
     },
     "metadata": {},
     "output_type": "display_data"
    }
   ],
   "source": [
    "sns.histplot(data, x=\"i2\", hue=\"successful_sell\", multiple = 'stack')"
   ]
  },
  {
   "cell_type": "markdown",
   "id": "25421988-4e93-437f-89a8-f7ff9381ac18",
   "metadata": {},
   "source": [
    "### i3 "
   ]
  },
  {
   "cell_type": "code",
   "execution_count": 106,
   "id": "ef67a542-d8b4-430d-89e2-4871ccf58c72",
   "metadata": {},
   "outputs": [
    {
     "data": {
      "text/plain": [
       "<Axes: xlabel='i3', ylabel='Count'>"
      ]
     },
     "execution_count": 106,
     "metadata": {},
     "output_type": "execute_result"
    },
    {
     "data": {
      "image/png": "[encoded data removed]",
      "text/plain": [
       "<Figure size 640x480 with 1 Axes>"
      ]
     },
     "metadata": {},
     "output_type": "display_data"
    }
   ],
   "source": [
    "sns.histplot(data, x=\"i3\", hue=\"successful_sell\", multiple = 'stack')"
   ]
  },
  {
   "cell_type": "markdown",
   "id": "a6aa14e3-4ed5-4bf9-ba26-669bf9b8a4a9",
   "metadata": {},
   "source": [
    "### i4"
   ]
  },
  {
   "cell_type": "code",
   "execution_count": 107,
   "id": "021e476f-41cb-48fb-8784-c85693b8354f",
   "metadata": {},
   "outputs": [
    {
     "data": {
      "text/plain": [
       "<Axes: xlabel='i4', ylabel='Count'>"
      ]
     },
     "execution_count": 107,
     "metadata": {},
     "output_type": "execute_result"
    },
    {
     "data": {
      "image/png": "[encoded data removed]",
      "text/plain": [
       "<Figure size 640x480 with 1 Axes>"
      ]
     },
     "metadata": {},
     "output_type": "display_data"
    }
   ],
   "source": [
    "sns.histplot(data, x=\"i4\", hue=\"successful_sell\", multiple = 'stack')"
   ]
  },
  {
   "cell_type": "markdown",
   "id": "b8c8ac48-9658-4428-9caf-721007aa248b",
   "metadata": {},
   "source": [
    "### i5"
   ]
  },
  {
   "cell_type": "code",
   "execution_count": 108,
   "id": "7f267acf-5e93-4542-adf8-c9193347d530",
   "metadata": {},
   "outputs": [
    {
     "data": {
      "text/plain": [
       "<Axes: xlabel='i5', ylabel='Count'>"
      ]
     },
     "execution_count": 108,
     "metadata": {},
     "output_type": "execute_result"
    },
    {
     "data": {
      "image/png": "[encoded data removed]",
      "text/plain": [
       "<Figure size 640x480 with 1 Axes>"
      ]
     },
     "metadata": {},
     "output_type": "display_data"
    }
   ],
   "source": [
    "sns.histplot(data, x=\"i5\", hue=\"successful_sell\", multiple = 'stack')"
   ]
  },
  {
   "cell_type": "markdown",
   "id": "61d40fc6-d134-425e-960e-cf7b3218e273",
   "metadata": {},
   "source": [
    "### Marriage Status"
   ]
  },
  {
   "cell_type": "code",
   "execution_count": 96,
   "id": "a0b71110-74f3-474b-b56f-a49f734da793",
   "metadata": {},
   "outputs": [
    {
     "data": {
      "text/html": [
       "<div>\n",
       "<style scoped>\n",
       "    .dataframe tbody tr th:only-of-type {\n",
       "        vertical-align: middle;\n",
       "    }\n",
       "\n",
       "    .dataframe tbody tr th {\n",
       "        vertical-align: top;\n",
       "    }\n",
       "\n",
       "    .dataframe thead th {\n",
       "        text-align: right;\n",
       "    }\n",
       "</style>\n",
       "<table border=\"1\" class=\"dataframe\">\n",
       "  <thead>\n",
       "    <tr style=\"text-align: right;\">\n",
       "      <th>successful_sell</th>\n",
       "      <th>no</th>\n",
       "      <th>yes</th>\n",
       "      <th>total</th>\n",
       "      <th>conversion_rate</th>\n",
       "    </tr>\n",
       "    <tr>\n",
       "      <th>marriage-status</th>\n",
       "      <th></th>\n",
       "      <th></th>\n",
       "      <th></th>\n",
       "      <th></th>\n",
       "    </tr>\n",
       "  </thead>\n",
       "  <tbody>\n",
       "    <tr>\n",
       "      <th>divorced</th>\n",
       "      <td>4136</td>\n",
       "      <td>476</td>\n",
       "      <td>4612</td>\n",
       "      <td>10.320902</td>\n",
       "    </tr>\n",
       "    <tr>\n",
       "      <th>married</th>\n",
       "      <td>22396</td>\n",
       "      <td>2532</td>\n",
       "      <td>24928</td>\n",
       "      <td>10.157253</td>\n",
       "    </tr>\n",
       "    <tr>\n",
       "      <th>single</th>\n",
       "      <td>9948</td>\n",
       "      <td>1620</td>\n",
       "      <td>11568</td>\n",
       "      <td>14.004149</td>\n",
       "    </tr>\n",
       "    <tr>\n",
       "      <th>NaN</th>\n",
       "      <td>68</td>\n",
       "      <td>12</td>\n",
       "      <td>80</td>\n",
       "      <td>15.000000</td>\n",
       "    </tr>\n",
       "  </tbody>\n",
       "</table>\n",
       "</div>"
      ],
      "text/plain": [
       "successful_sell     no   yes  total  conversion_rate\n",
       "marriage-status                                     \n",
       "divorced          4136   476   4612        10.320902\n",
       "married          22396  2532  24928        10.157253\n",
       "single            9948  1620  11568        14.004149\n",
       "NaN                 68    12     80        15.000000"
      ]
     },
     "execution_count": 96,
     "metadata": {},
     "output_type": "execute_result"
    }
   ],
   "source": [
    "conversion_table(data,'marriage-status')"
   ]
  },
  {
   "cell_type": "code",
   "execution_count": 286,
   "id": "a3181d2e-cde3-43a2-b4d2-59b0f436a437",
   "metadata": {},
   "outputs": [],
   "source": [
    "#Order data for plot\n",
    "plot_data = conversion_table(data,'marriage-status')\n",
    "plot_data = plot_data.sort_values(by = 'total', ascending = False)\n",
    "plot_data.index = pd.Series(plot_data.index).replace(np.nan, 'uknown')"
   ]
  },
  {
   "cell_type": "code",
   "execution_count": 287,
   "id": "465ee7cb-2d58-4526-af5b-13ad422056d6",
   "metadata": {},
   "outputs": [
    {
     "data": {
      "image/png": "[encoded data removed]",
      "text/plain": [
       "<Figure size 640x480 with 2 Axes>"
      ]
     },
     "metadata": {},
     "output_type": "display_data"
    }
   ],
   "source": [
    "barlineplot(plot_data, 50)"
   ]
  },
  {
   "cell_type": "markdown",
   "id": "f1e79c48-cfed-4489-a171-3afb544fa2ca",
   "metadata": {},
   "source": [
    "### Month"
   ]
  },
  {
   "cell_type": "code",
   "execution_count": null,
   "id": "ad8d401b-4ee9-4950-aa32-e5ca22259d97",
   "metadata": {},
   "outputs": [],
   "source": [
    "#No data from Jan or Feb"
   ]
  },
  {
   "cell_type": "code",
   "execution_count": 308,
   "id": "76b2b679-b546-4f12-8e3e-b8a8ca4ee068",
   "metadata": {},
   "outputs": [
    {
     "data": {
      "text/html": [
       "<div>\n",
       "<style scoped>\n",
       "    .dataframe tbody tr th:only-of-type {\n",
       "        vertical-align: middle;\n",
       "    }\n",
       "\n",
       "    .dataframe tbody tr th {\n",
       "        vertical-align: top;\n",
       "    }\n",
       "\n",
       "    .dataframe thead th {\n",
       "        text-align: right;\n",
       "    }\n",
       "</style>\n",
       "<table border=\"1\" class=\"dataframe\">\n",
       "  <thead>\n",
       "    <tr style=\"text-align: right;\">\n",
       "      <th>successful_sell</th>\n",
       "      <th>no</th>\n",
       "      <th>yes</th>\n",
       "      <th>total</th>\n",
       "      <th>conversion_rate</th>\n",
       "    </tr>\n",
       "    <tr>\n",
       "      <th>month</th>\n",
       "      <th></th>\n",
       "      <th></th>\n",
       "      <th></th>\n",
       "      <th></th>\n",
       "    </tr>\n",
       "  </thead>\n",
       "  <tbody>\n",
       "    <tr>\n",
       "      <th>apr</th>\n",
       "      <td>2093</td>\n",
       "      <td>539</td>\n",
       "      <td>2632</td>\n",
       "      <td>20.478723</td>\n",
       "    </tr>\n",
       "    <tr>\n",
       "      <th>aug</th>\n",
       "      <td>5523</td>\n",
       "      <td>655</td>\n",
       "      <td>6178</td>\n",
       "      <td>10.602137</td>\n",
       "    </tr>\n",
       "    <tr>\n",
       "      <th>dec</th>\n",
       "      <td>93</td>\n",
       "      <td>89</td>\n",
       "      <td>182</td>\n",
       "      <td>48.901099</td>\n",
       "    </tr>\n",
       "    <tr>\n",
       "      <th>jul</th>\n",
       "      <td>6525</td>\n",
       "      <td>649</td>\n",
       "      <td>7174</td>\n",
       "      <td>9.046557</td>\n",
       "    </tr>\n",
       "    <tr>\n",
       "      <th>jun</th>\n",
       "      <td>4759</td>\n",
       "      <td>559</td>\n",
       "      <td>5318</td>\n",
       "      <td>10.511470</td>\n",
       "    </tr>\n",
       "    <tr>\n",
       "      <th>mar</th>\n",
       "      <td>270</td>\n",
       "      <td>276</td>\n",
       "      <td>546</td>\n",
       "      <td>50.549451</td>\n",
       "    </tr>\n",
       "    <tr>\n",
       "      <th>may</th>\n",
       "      <td>12883</td>\n",
       "      <td>886</td>\n",
       "      <td>13769</td>\n",
       "      <td>6.434745</td>\n",
       "    </tr>\n",
       "    <tr>\n",
       "      <th>nov</th>\n",
       "      <td>3685</td>\n",
       "      <td>416</td>\n",
       "      <td>4101</td>\n",
       "      <td>10.143867</td>\n",
       "    </tr>\n",
       "    <tr>\n",
       "      <th>oct</th>\n",
       "      <td>403</td>\n",
       "      <td>315</td>\n",
       "      <td>718</td>\n",
       "      <td>43.871866</td>\n",
       "    </tr>\n",
       "    <tr>\n",
       "      <th>sep</th>\n",
       "      <td>314</td>\n",
       "      <td>256</td>\n",
       "      <td>570</td>\n",
       "      <td>44.912281</td>\n",
       "    </tr>\n",
       "  </tbody>\n",
       "</table>\n",
       "</div>"
      ],
      "text/plain": [
       "successful_sell     no  yes  total  conversion_rate\n",
       "month                                              \n",
       "apr               2093  539   2632        20.478723\n",
       "aug               5523  655   6178        10.602137\n",
       "dec                 93   89    182        48.901099\n",
       "jul               6525  649   7174         9.046557\n",
       "jun               4759  559   5318        10.511470\n",
       "mar                270  276    546        50.549451\n",
       "may              12883  886  13769         6.434745\n",
       "nov               3685  416   4101        10.143867\n",
       "oct                403  315    718        43.871866\n",
       "sep                314  256    570        44.912281"
      ]
     },
     "execution_count": 308,
     "metadata": {},
     "output_type": "execute_result"
    }
   ],
   "source": [
    "conversion_table(data,'month')"
   ]
  },
  {
   "cell_type": "code",
   "execution_count": 331,
   "id": "6a44ba61-0d17-459e-a544-5681bcc1e44a",
   "metadata": {},
   "outputs": [],
   "source": [
    "#reorder data for plot\n",
    "\n",
    "plot_data = conversion_table(data,'month')\n",
    "#Add missing months for visual\n",
    "plot_data.loc['jan'] = [0, 0, 0, 0]\n",
    "plot_data.loc['feb'] = [0, 0, 0, 0]\n",
    "\n",
    "new_order = ['jan','feb','mar', 'apr', 'may','jun','jul','aug','sep','oct','nov','dec']\n",
    "plot_data = plot_data.reindex(new_order)"
   ]
  },
  {
   "cell_type": "code",
   "execution_count": 332,
   "id": "70f636c8-b2f9-4bb5-85c5-9040d487c157",
   "metadata": {},
   "outputs": [
    {
     "data": {
      "image/png": "[encoded data removed]",
      "text/plain": [
       "<Figure size 640x480 with 2 Axes>"
      ]
     },
     "metadata": {},
     "output_type": "display_data"
    }
   ],
   "source": [
    "barlineplot(plot_data, 100)"
   ]
  },
  {
   "cell_type": "markdown",
   "id": "9f4d3d80-bee7-4bf0-8c52-8ad607a85853",
   "metadata": {},
   "source": [
    "### n2"
   ]
  },
  {
   "cell_type": "code",
   "execution_count": 297,
   "id": "40f7a6be-9414-43f4-beb3-d07e608e7e24",
   "metadata": {},
   "outputs": [
    {
     "data": {
      "text/html": [
       "<div>\n",
       "<style scoped>\n",
       "    .dataframe tbody tr th:only-of-type {\n",
       "        vertical-align: middle;\n",
       "    }\n",
       "\n",
       "    .dataframe tbody tr th {\n",
       "        vertical-align: top;\n",
       "    }\n",
       "\n",
       "    .dataframe thead th {\n",
       "        text-align: right;\n",
       "    }\n",
       "</style>\n",
       "<table border=\"1\" class=\"dataframe\">\n",
       "  <thead>\n",
       "    <tr style=\"text-align: right;\">\n",
       "      <th>successful_sell</th>\n",
       "      <th>no</th>\n",
       "      <th>yes</th>\n",
       "      <th>total</th>\n",
       "      <th>conversion_rate</th>\n",
       "    </tr>\n",
       "    <tr>\n",
       "      <th>n2</th>\n",
       "      <th></th>\n",
       "      <th></th>\n",
       "      <th></th>\n",
       "      <th></th>\n",
       "    </tr>\n",
       "  </thead>\n",
       "  <tbody>\n",
       "    <tr>\n",
       "      <th>1</th>\n",
       "      <td>15342</td>\n",
       "      <td>2300</td>\n",
       "      <td>17642</td>\n",
       "      <td>13.037071</td>\n",
       "    </tr>\n",
       "    <tr>\n",
       "      <th>2</th>\n",
       "      <td>9359</td>\n",
       "      <td>1211</td>\n",
       "      <td>10570</td>\n",
       "      <td>11.456954</td>\n",
       "    </tr>\n",
       "    <tr>\n",
       "      <th>3</th>\n",
       "      <td>4767</td>\n",
       "      <td>574</td>\n",
       "      <td>5341</td>\n",
       "      <td>10.747051</td>\n",
       "    </tr>\n",
       "    <tr>\n",
       "      <th>4</th>\n",
       "      <td>2402</td>\n",
       "      <td>249</td>\n",
       "      <td>2651</td>\n",
       "      <td>9.392682</td>\n",
       "    </tr>\n",
       "    <tr>\n",
       "      <th>5</th>\n",
       "      <td>1479</td>\n",
       "      <td>120</td>\n",
       "      <td>1599</td>\n",
       "      <td>7.504690</td>\n",
       "    </tr>\n",
       "    <tr>\n",
       "      <th>6</th>\n",
       "      <td>904</td>\n",
       "      <td>75</td>\n",
       "      <td>979</td>\n",
       "      <td>7.660878</td>\n",
       "    </tr>\n",
       "    <tr>\n",
       "      <th>7</th>\n",
       "      <td>591</td>\n",
       "      <td>38</td>\n",
       "      <td>629</td>\n",
       "      <td>6.041335</td>\n",
       "    </tr>\n",
       "    <tr>\n",
       "      <th>8</th>\n",
       "      <td>383</td>\n",
       "      <td>17</td>\n",
       "      <td>400</td>\n",
       "      <td>4.250000</td>\n",
       "    </tr>\n",
       "    <tr>\n",
       "      <th>9</th>\n",
       "      <td>266</td>\n",
       "      <td>17</td>\n",
       "      <td>283</td>\n",
       "      <td>6.007067</td>\n",
       "    </tr>\n",
       "    <tr>\n",
       "      <th>10</th>\n",
       "      <td>213</td>\n",
       "      <td>12</td>\n",
       "      <td>225</td>\n",
       "      <td>5.333333</td>\n",
       "    </tr>\n",
       "    <tr>\n",
       "      <th>11</th>\n",
       "      <td>165</td>\n",
       "      <td>12</td>\n",
       "      <td>177</td>\n",
       "      <td>6.779661</td>\n",
       "    </tr>\n",
       "    <tr>\n",
       "      <th>12</th>\n",
       "      <td>122</td>\n",
       "      <td>3</td>\n",
       "      <td>125</td>\n",
       "      <td>2.400000</td>\n",
       "    </tr>\n",
       "    <tr>\n",
       "      <th>13</th>\n",
       "      <td>88</td>\n",
       "      <td>4</td>\n",
       "      <td>92</td>\n",
       "      <td>4.347826</td>\n",
       "    </tr>\n",
       "    <tr>\n",
       "      <th>14</th>\n",
       "      <td>68</td>\n",
       "      <td>1</td>\n",
       "      <td>69</td>\n",
       "      <td>1.449275</td>\n",
       "    </tr>\n",
       "    <tr>\n",
       "      <th>15</th>\n",
       "      <td>49</td>\n",
       "      <td>2</td>\n",
       "      <td>51</td>\n",
       "      <td>3.921569</td>\n",
       "    </tr>\n",
       "    <tr>\n",
       "      <th>16</th>\n",
       "      <td>51</td>\n",
       "      <td>0</td>\n",
       "      <td>51</td>\n",
       "      <td>0.000000</td>\n",
       "    </tr>\n",
       "    <tr>\n",
       "      <th>17</th>\n",
       "      <td>54</td>\n",
       "      <td>4</td>\n",
       "      <td>58</td>\n",
       "      <td>6.896552</td>\n",
       "    </tr>\n",
       "    <tr>\n",
       "      <th>18</th>\n",
       "      <td>33</td>\n",
       "      <td>0</td>\n",
       "      <td>33</td>\n",
       "      <td>0.000000</td>\n",
       "    </tr>\n",
       "    <tr>\n",
       "      <th>19</th>\n",
       "      <td>26</td>\n",
       "      <td>0</td>\n",
       "      <td>26</td>\n",
       "      <td>0.000000</td>\n",
       "    </tr>\n",
       "    <tr>\n",
       "      <th>20</th>\n",
       "      <td>30</td>\n",
       "      <td>0</td>\n",
       "      <td>30</td>\n",
       "      <td>0.000000</td>\n",
       "    </tr>\n",
       "    <tr>\n",
       "      <th>21</th>\n",
       "      <td>24</td>\n",
       "      <td>0</td>\n",
       "      <td>24</td>\n",
       "      <td>0.000000</td>\n",
       "    </tr>\n",
       "    <tr>\n",
       "      <th>22</th>\n",
       "      <td>17</td>\n",
       "      <td>0</td>\n",
       "      <td>17</td>\n",
       "      <td>0.000000</td>\n",
       "    </tr>\n",
       "    <tr>\n",
       "      <th>23</th>\n",
       "      <td>15</td>\n",
       "      <td>1</td>\n",
       "      <td>16</td>\n",
       "      <td>6.250000</td>\n",
       "    </tr>\n",
       "    <tr>\n",
       "      <th>24</th>\n",
       "      <td>15</td>\n",
       "      <td>0</td>\n",
       "      <td>15</td>\n",
       "      <td>0.000000</td>\n",
       "    </tr>\n",
       "    <tr>\n",
       "      <th>25</th>\n",
       "      <td>8</td>\n",
       "      <td>0</td>\n",
       "      <td>8</td>\n",
       "      <td>0.000000</td>\n",
       "    </tr>\n",
       "    <tr>\n",
       "      <th>26</th>\n",
       "      <td>8</td>\n",
       "      <td>0</td>\n",
       "      <td>8</td>\n",
       "      <td>0.000000</td>\n",
       "    </tr>\n",
       "    <tr>\n",
       "      <th>27</th>\n",
       "      <td>11</td>\n",
       "      <td>0</td>\n",
       "      <td>11</td>\n",
       "      <td>0.000000</td>\n",
       "    </tr>\n",
       "    <tr>\n",
       "      <th>28</th>\n",
       "      <td>8</td>\n",
       "      <td>0</td>\n",
       "      <td>8</td>\n",
       "      <td>0.000000</td>\n",
       "    </tr>\n",
       "    <tr>\n",
       "      <th>29</th>\n",
       "      <td>10</td>\n",
       "      <td>0</td>\n",
       "      <td>10</td>\n",
       "      <td>0.000000</td>\n",
       "    </tr>\n",
       "    <tr>\n",
       "      <th>30</th>\n",
       "      <td>7</td>\n",
       "      <td>0</td>\n",
       "      <td>7</td>\n",
       "      <td>0.000000</td>\n",
       "    </tr>\n",
       "    <tr>\n",
       "      <th>31</th>\n",
       "      <td>7</td>\n",
       "      <td>0</td>\n",
       "      <td>7</td>\n",
       "      <td>0.000000</td>\n",
       "    </tr>\n",
       "    <tr>\n",
       "      <th>32</th>\n",
       "      <td>4</td>\n",
       "      <td>0</td>\n",
       "      <td>4</td>\n",
       "      <td>0.000000</td>\n",
       "    </tr>\n",
       "    <tr>\n",
       "      <th>33</th>\n",
       "      <td>4</td>\n",
       "      <td>0</td>\n",
       "      <td>4</td>\n",
       "      <td>0.000000</td>\n",
       "    </tr>\n",
       "    <tr>\n",
       "      <th>34</th>\n",
       "      <td>3</td>\n",
       "      <td>0</td>\n",
       "      <td>3</td>\n",
       "      <td>0.000000</td>\n",
       "    </tr>\n",
       "    <tr>\n",
       "      <th>35</th>\n",
       "      <td>5</td>\n",
       "      <td>0</td>\n",
       "      <td>5</td>\n",
       "      <td>0.000000</td>\n",
       "    </tr>\n",
       "    <tr>\n",
       "      <th>37</th>\n",
       "      <td>1</td>\n",
       "      <td>0</td>\n",
       "      <td>1</td>\n",
       "      <td>0.000000</td>\n",
       "    </tr>\n",
       "    <tr>\n",
       "      <th>39</th>\n",
       "      <td>1</td>\n",
       "      <td>0</td>\n",
       "      <td>1</td>\n",
       "      <td>0.000000</td>\n",
       "    </tr>\n",
       "    <tr>\n",
       "      <th>40</th>\n",
       "      <td>2</td>\n",
       "      <td>0</td>\n",
       "      <td>2</td>\n",
       "      <td>0.000000</td>\n",
       "    </tr>\n",
       "    <tr>\n",
       "      <th>41</th>\n",
       "      <td>1</td>\n",
       "      <td>0</td>\n",
       "      <td>1</td>\n",
       "      <td>0.000000</td>\n",
       "    </tr>\n",
       "    <tr>\n",
       "      <th>42</th>\n",
       "      <td>2</td>\n",
       "      <td>0</td>\n",
       "      <td>2</td>\n",
       "      <td>0.000000</td>\n",
       "    </tr>\n",
       "    <tr>\n",
       "      <th>43</th>\n",
       "      <td>2</td>\n",
       "      <td>0</td>\n",
       "      <td>2</td>\n",
       "      <td>0.000000</td>\n",
       "    </tr>\n",
       "    <tr>\n",
       "      <th>56</th>\n",
       "      <td>1</td>\n",
       "      <td>0</td>\n",
       "      <td>1</td>\n",
       "      <td>0.000000</td>\n",
       "    </tr>\n",
       "  </tbody>\n",
       "</table>\n",
       "</div>"
      ],
      "text/plain": [
       "successful_sell     no   yes  total  conversion_rate\n",
       "n2                                                  \n",
       "1                15342  2300  17642        13.037071\n",
       "2                 9359  1211  10570        11.456954\n",
       "3                 4767   574   5341        10.747051\n",
       "4                 2402   249   2651         9.392682\n",
       "5                 1479   120   1599         7.504690\n",
       "6                  904    75    979         7.660878\n",
       "7                  591    38    629         6.041335\n",
       "8                  383    17    400         4.250000\n",
       "9                  266    17    283         6.007067\n",
       "10                 213    12    225         5.333333\n",
       "11                 165    12    177         6.779661\n",
       "12                 122     3    125         2.400000\n",
       "13                  88     4     92         4.347826\n",
       "14                  68     1     69         1.449275\n",
       "15                  49     2     51         3.921569\n",
       "16                  51     0     51         0.000000\n",
       "17                  54     4     58         6.896552\n",
       "18                  33     0     33         0.000000\n",
       "19                  26     0     26         0.000000\n",
       "20                  30     0     30         0.000000\n",
       "21                  24     0     24         0.000000\n",
       "22                  17     0     17         0.000000\n",
       "23                  15     1     16         6.250000\n",
       "24                  15     0     15         0.000000\n",
       "25                   8     0      8         0.000000\n",
       "26                   8     0      8         0.000000\n",
       "27                  11     0     11         0.000000\n",
       "28                   8     0      8         0.000000\n",
       "29                  10     0     10         0.000000\n",
       "30                   7     0      7         0.000000\n",
       "31                   7     0      7         0.000000\n",
       "32                   4     0      4         0.000000\n",
       "33                   4     0      4         0.000000\n",
       "34                   3     0      3         0.000000\n",
       "35                   5     0      5         0.000000\n",
       "37                   1     0      1         0.000000\n",
       "39                   1     0      1         0.000000\n",
       "40                   2     0      2         0.000000\n",
       "41                   1     0      1         0.000000\n",
       "42                   2     0      2         0.000000\n",
       "43                   2     0      2         0.000000\n",
       "56                   1     0      1         0.000000"
      ]
     },
     "execution_count": 297,
     "metadata": {},
     "output_type": "execute_result"
    }
   ],
   "source": [
    "x = conversion_table(data,'n2')\n",
    "x"
   ]
  },
  {
   "cell_type": "code",
   "execution_count": 298,
   "id": "f3de6858-2007-4da8-af85-fdef7629060f",
   "metadata": {},
   "outputs": [
    {
     "data": {
      "image/png": "[encoded data removed]",
      "text/plain": [
       "<Figure size 640x480 with 1 Axes>"
      ]
     },
     "metadata": {},
     "output_type": "display_data"
    }
   ],
   "source": [
    "lp(x,'n2')"
   ]
  },
  {
   "cell_type": "markdown",
   "id": "a9b66335-a9f5-45b3-99f0-143a405cb2e7",
   "metadata": {},
   "source": [
    "### n3"
   ]
  },
  {
   "cell_type": "code",
   "execution_count": 299,
   "id": "36b55f64-b7a1-4938-9e74-760b970673a3",
   "metadata": {},
   "outputs": [
    {
     "data": {
      "text/html": [
       "<div>\n",
       "<style scoped>\n",
       "    .dataframe tbody tr th:only-of-type {\n",
       "        vertical-align: middle;\n",
       "    }\n",
       "\n",
       "    .dataframe tbody tr th {\n",
       "        vertical-align: top;\n",
       "    }\n",
       "\n",
       "    .dataframe thead th {\n",
       "        text-align: right;\n",
       "    }\n",
       "</style>\n",
       "<table border=\"1\" class=\"dataframe\">\n",
       "  <thead>\n",
       "    <tr style=\"text-align: right;\">\n",
       "      <th>successful_sell</th>\n",
       "      <th>no</th>\n",
       "      <th>yes</th>\n",
       "      <th>total</th>\n",
       "      <th>conversion_rate</th>\n",
       "    </tr>\n",
       "    <tr>\n",
       "      <th>n3</th>\n",
       "      <th></th>\n",
       "      <th></th>\n",
       "      <th></th>\n",
       "      <th></th>\n",
       "    </tr>\n",
       "  </thead>\n",
       "  <tbody>\n",
       "    <tr>\n",
       "      <th>500</th>\n",
       "      <td>752</td>\n",
       "      <td>103</td>\n",
       "      <td>855</td>\n",
       "      <td>12.046784</td>\n",
       "    </tr>\n",
       "    <tr>\n",
       "      <th>510</th>\n",
       "      <td>683</td>\n",
       "      <td>102</td>\n",
       "      <td>785</td>\n",
       "      <td>12.993631</td>\n",
       "    </tr>\n",
       "    <tr>\n",
       "      <th>520</th>\n",
       "      <td>721</td>\n",
       "      <td>91</td>\n",
       "      <td>812</td>\n",
       "      <td>11.206897</td>\n",
       "    </tr>\n",
       "    <tr>\n",
       "      <th>530</th>\n",
       "      <td>750</td>\n",
       "      <td>81</td>\n",
       "      <td>831</td>\n",
       "      <td>9.747292</td>\n",
       "    </tr>\n",
       "    <tr>\n",
       "      <th>540</th>\n",
       "      <td>712</td>\n",
       "      <td>76</td>\n",
       "      <td>788</td>\n",
       "      <td>9.644670</td>\n",
       "    </tr>\n",
       "    <tr>\n",
       "      <th>550</th>\n",
       "      <td>737</td>\n",
       "      <td>102</td>\n",
       "      <td>839</td>\n",
       "      <td>12.157330</td>\n",
       "    </tr>\n",
       "    <tr>\n",
       "      <th>560</th>\n",
       "      <td>682</td>\n",
       "      <td>109</td>\n",
       "      <td>791</td>\n",
       "      <td>13.780025</td>\n",
       "    </tr>\n",
       "    <tr>\n",
       "      <th>570</th>\n",
       "      <td>726</td>\n",
       "      <td>72</td>\n",
       "      <td>798</td>\n",
       "      <td>9.022556</td>\n",
       "    </tr>\n",
       "    <tr>\n",
       "      <th>580</th>\n",
       "      <td>735</td>\n",
       "      <td>96</td>\n",
       "      <td>831</td>\n",
       "      <td>11.552347</td>\n",
       "    </tr>\n",
       "    <tr>\n",
       "      <th>590</th>\n",
       "      <td>734</td>\n",
       "      <td>95</td>\n",
       "      <td>829</td>\n",
       "      <td>11.459590</td>\n",
       "    </tr>\n",
       "    <tr>\n",
       "      <th>600</th>\n",
       "      <td>721</td>\n",
       "      <td>90</td>\n",
       "      <td>811</td>\n",
       "      <td>11.097411</td>\n",
       "    </tr>\n",
       "    <tr>\n",
       "      <th>610</th>\n",
       "      <td>769</td>\n",
       "      <td>89</td>\n",
       "      <td>858</td>\n",
       "      <td>10.372960</td>\n",
       "    </tr>\n",
       "    <tr>\n",
       "      <th>620</th>\n",
       "      <td>717</td>\n",
       "      <td>103</td>\n",
       "      <td>820</td>\n",
       "      <td>12.560976</td>\n",
       "    </tr>\n",
       "    <tr>\n",
       "      <th>630</th>\n",
       "      <td>777</td>\n",
       "      <td>96</td>\n",
       "      <td>873</td>\n",
       "      <td>10.996564</td>\n",
       "    </tr>\n",
       "    <tr>\n",
       "      <th>640</th>\n",
       "      <td>711</td>\n",
       "      <td>105</td>\n",
       "      <td>816</td>\n",
       "      <td>12.867647</td>\n",
       "    </tr>\n",
       "    <tr>\n",
       "      <th>650</th>\n",
       "      <td>728</td>\n",
       "      <td>79</td>\n",
       "      <td>807</td>\n",
       "      <td>9.789343</td>\n",
       "    </tr>\n",
       "    <tr>\n",
       "      <th>660</th>\n",
       "      <td>805</td>\n",
       "      <td>97</td>\n",
       "      <td>902</td>\n",
       "      <td>10.753880</td>\n",
       "    </tr>\n",
       "    <tr>\n",
       "      <th>670</th>\n",
       "      <td>703</td>\n",
       "      <td>103</td>\n",
       "      <td>806</td>\n",
       "      <td>12.779156</td>\n",
       "    </tr>\n",
       "    <tr>\n",
       "      <th>680</th>\n",
       "      <td>758</td>\n",
       "      <td>104</td>\n",
       "      <td>862</td>\n",
       "      <td>12.064965</td>\n",
       "    </tr>\n",
       "    <tr>\n",
       "      <th>690</th>\n",
       "      <td>756</td>\n",
       "      <td>73</td>\n",
       "      <td>829</td>\n",
       "      <td>8.805790</td>\n",
       "    </tr>\n",
       "    <tr>\n",
       "      <th>700</th>\n",
       "      <td>756</td>\n",
       "      <td>94</td>\n",
       "      <td>850</td>\n",
       "      <td>11.058824</td>\n",
       "    </tr>\n",
       "    <tr>\n",
       "      <th>710</th>\n",
       "      <td>702</td>\n",
       "      <td>82</td>\n",
       "      <td>784</td>\n",
       "      <td>10.459184</td>\n",
       "    </tr>\n",
       "    <tr>\n",
       "      <th>720</th>\n",
       "      <td>703</td>\n",
       "      <td>87</td>\n",
       "      <td>790</td>\n",
       "      <td>11.012658</td>\n",
       "    </tr>\n",
       "    <tr>\n",
       "      <th>730</th>\n",
       "      <td>688</td>\n",
       "      <td>102</td>\n",
       "      <td>790</td>\n",
       "      <td>12.911392</td>\n",
       "    </tr>\n",
       "    <tr>\n",
       "      <th>740</th>\n",
       "      <td>732</td>\n",
       "      <td>96</td>\n",
       "      <td>828</td>\n",
       "      <td>11.594203</td>\n",
       "    </tr>\n",
       "    <tr>\n",
       "      <th>750</th>\n",
       "      <td>746</td>\n",
       "      <td>87</td>\n",
       "      <td>833</td>\n",
       "      <td>10.444178</td>\n",
       "    </tr>\n",
       "    <tr>\n",
       "      <th>760</th>\n",
       "      <td>708</td>\n",
       "      <td>93</td>\n",
       "      <td>801</td>\n",
       "      <td>11.610487</td>\n",
       "    </tr>\n",
       "    <tr>\n",
       "      <th>770</th>\n",
       "      <td>828</td>\n",
       "      <td>85</td>\n",
       "      <td>913</td>\n",
       "      <td>9.309967</td>\n",
       "    </tr>\n",
       "    <tr>\n",
       "      <th>780</th>\n",
       "      <td>729</td>\n",
       "      <td>93</td>\n",
       "      <td>822</td>\n",
       "      <td>11.313869</td>\n",
       "    </tr>\n",
       "    <tr>\n",
       "      <th>790</th>\n",
       "      <td>704</td>\n",
       "      <td>97</td>\n",
       "      <td>801</td>\n",
       "      <td>12.109863</td>\n",
       "    </tr>\n",
       "    <tr>\n",
       "      <th>800</th>\n",
       "      <td>711</td>\n",
       "      <td>106</td>\n",
       "      <td>817</td>\n",
       "      <td>12.974296</td>\n",
       "    </tr>\n",
       "    <tr>\n",
       "      <th>810</th>\n",
       "      <td>721</td>\n",
       "      <td>100</td>\n",
       "      <td>821</td>\n",
       "      <td>12.180268</td>\n",
       "    </tr>\n",
       "    <tr>\n",
       "      <th>820</th>\n",
       "      <td>686</td>\n",
       "      <td>83</td>\n",
       "      <td>769</td>\n",
       "      <td>10.793238</td>\n",
       "    </tr>\n",
       "    <tr>\n",
       "      <th>830</th>\n",
       "      <td>719</td>\n",
       "      <td>87</td>\n",
       "      <td>806</td>\n",
       "      <td>10.794045</td>\n",
       "    </tr>\n",
       "    <tr>\n",
       "      <th>840</th>\n",
       "      <td>756</td>\n",
       "      <td>76</td>\n",
       "      <td>832</td>\n",
       "      <td>9.134615</td>\n",
       "    </tr>\n",
       "    <tr>\n",
       "      <th>850</th>\n",
       "      <td>721</td>\n",
       "      <td>100</td>\n",
       "      <td>821</td>\n",
       "      <td>12.180268</td>\n",
       "    </tr>\n",
       "    <tr>\n",
       "      <th>860</th>\n",
       "      <td>709</td>\n",
       "      <td>93</td>\n",
       "      <td>802</td>\n",
       "      <td>11.596010</td>\n",
       "    </tr>\n",
       "    <tr>\n",
       "      <th>870</th>\n",
       "      <td>739</td>\n",
       "      <td>97</td>\n",
       "      <td>836</td>\n",
       "      <td>11.602871</td>\n",
       "    </tr>\n",
       "    <tr>\n",
       "      <th>880</th>\n",
       "      <td>746</td>\n",
       "      <td>88</td>\n",
       "      <td>834</td>\n",
       "      <td>10.551559</td>\n",
       "    </tr>\n",
       "    <tr>\n",
       "      <th>890</th>\n",
       "      <td>673</td>\n",
       "      <td>96</td>\n",
       "      <td>769</td>\n",
       "      <td>12.483745</td>\n",
       "    </tr>\n",
       "    <tr>\n",
       "      <th>900</th>\n",
       "      <td>739</td>\n",
       "      <td>99</td>\n",
       "      <td>838</td>\n",
       "      <td>11.813842</td>\n",
       "    </tr>\n",
       "    <tr>\n",
       "      <th>910</th>\n",
       "      <td>743</td>\n",
       "      <td>99</td>\n",
       "      <td>842</td>\n",
       "      <td>11.757720</td>\n",
       "    </tr>\n",
       "    <tr>\n",
       "      <th>920</th>\n",
       "      <td>767</td>\n",
       "      <td>78</td>\n",
       "      <td>845</td>\n",
       "      <td>9.230769</td>\n",
       "    </tr>\n",
       "    <tr>\n",
       "      <th>930</th>\n",
       "      <td>727</td>\n",
       "      <td>101</td>\n",
       "      <td>828</td>\n",
       "      <td>12.198068</td>\n",
       "    </tr>\n",
       "    <tr>\n",
       "      <th>940</th>\n",
       "      <td>776</td>\n",
       "      <td>86</td>\n",
       "      <td>862</td>\n",
       "      <td>9.976798</td>\n",
       "    </tr>\n",
       "    <tr>\n",
       "      <th>950</th>\n",
       "      <td>734</td>\n",
       "      <td>96</td>\n",
       "      <td>830</td>\n",
       "      <td>11.566265</td>\n",
       "    </tr>\n",
       "    <tr>\n",
       "      <th>960</th>\n",
       "      <td>722</td>\n",
       "      <td>103</td>\n",
       "      <td>825</td>\n",
       "      <td>12.484848</td>\n",
       "    </tr>\n",
       "    <tr>\n",
       "      <th>970</th>\n",
       "      <td>717</td>\n",
       "      <td>92</td>\n",
       "      <td>809</td>\n",
       "      <td>11.372064</td>\n",
       "    </tr>\n",
       "    <tr>\n",
       "      <th>980</th>\n",
       "      <td>778</td>\n",
       "      <td>88</td>\n",
       "      <td>866</td>\n",
       "      <td>10.161663</td>\n",
       "    </tr>\n",
       "    <tr>\n",
       "      <th>990</th>\n",
       "      <td>691</td>\n",
       "      <td>90</td>\n",
       "      <td>781</td>\n",
       "      <td>11.523688</td>\n",
       "    </tr>\n",
       "  </tbody>\n",
       "</table>\n",
       "</div>"
      ],
      "text/plain": [
       "successful_sell   no  yes  total  conversion_rate\n",
       "n3                                               \n",
       "500              752  103    855        12.046784\n",
       "510              683  102    785        12.993631\n",
       "520              721   91    812        11.206897\n",
       "530              750   81    831         9.747292\n",
       "540              712   76    788         9.644670\n",
       "550              737  102    839        12.157330\n",
       "560              682  109    791        13.780025\n",
       "570              726   72    798         9.022556\n",
       "580              735   96    831        11.552347\n",
       "590              734   95    829        11.459590\n",
       "600              721   90    811        11.097411\n",
       "610              769   89    858        10.372960\n",
       "620              717  103    820        12.560976\n",
       "630              777   96    873        10.996564\n",
       "640              711  105    816        12.867647\n",
       "650              728   79    807         9.789343\n",
       "660              805   97    902        10.753880\n",
       "670              703  103    806        12.779156\n",
       "680              758  104    862        12.064965\n",
       "690              756   73    829         8.805790\n",
       "700              756   94    850        11.058824\n",
       "710              702   82    784        10.459184\n",
       "720              703   87    790        11.012658\n",
       "730              688  102    790        12.911392\n",
       "740              732   96    828        11.594203\n",
       "750              746   87    833        10.444178\n",
       "760              708   93    801        11.610487\n",
       "770              828   85    913         9.309967\n",
       "780              729   93    822        11.313869\n",
       "790              704   97    801        12.109863\n",
       "800              711  106    817        12.974296\n",
       "810              721  100    821        12.180268\n",
       "820              686   83    769        10.793238\n",
       "830              719   87    806        10.794045\n",
       "840              756   76    832         9.134615\n",
       "850              721  100    821        12.180268\n",
       "860              709   93    802        11.596010\n",
       "870              739   97    836        11.602871\n",
       "880              746   88    834        10.551559\n",
       "890              673   96    769        12.483745\n",
       "900              739   99    838        11.813842\n",
       "910              743   99    842        11.757720\n",
       "920              767   78    845         9.230769\n",
       "930              727  101    828        12.198068\n",
       "940              776   86    862         9.976798\n",
       "950              734   96    830        11.566265\n",
       "960              722  103    825        12.484848\n",
       "970              717   92    809        11.372064\n",
       "980              778   88    866        10.161663\n",
       "990              691   90    781        11.523688"
      ]
     },
     "execution_count": 299,
     "metadata": {},
     "output_type": "execute_result"
    }
   ],
   "source": [
    "x = conversion_table(data,'n3')\n",
    "x"
   ]
  },
  {
   "cell_type": "code",
   "execution_count": 301,
   "id": "61bbd28c-1884-42ab-9db0-1860b4579fce",
   "metadata": {},
   "outputs": [
    {
     "data": {
      "image/png": "[encoded data removed]",
      "text/plain": [
       "<Figure size 640x480 with 1 Axes>"
      ]
     },
     "metadata": {},
     "output_type": "display_data"
    }
   ],
   "source": [
    "lp(x,'n3')"
   ]
  },
  {
   "cell_type": "markdown",
   "id": "e7df7a0d-580c-4b2f-afc6-9deffad45cfc",
   "metadata": {},
   "source": [
    "### n4"
   ]
  },
  {
   "cell_type": "code",
   "execution_count": 303,
   "id": "81064eac-6e80-4c81-a4bc-76347ca364d2",
   "metadata": {},
   "outputs": [
    {
     "data": {
      "text/html": [
       "<div>\n",
       "<style scoped>\n",
       "    .dataframe tbody tr th:only-of-type {\n",
       "        vertical-align: middle;\n",
       "    }\n",
       "\n",
       "    .dataframe tbody tr th {\n",
       "        vertical-align: top;\n",
       "    }\n",
       "\n",
       "    .dataframe thead th {\n",
       "        text-align: right;\n",
       "    }\n",
       "</style>\n",
       "<table border=\"1\" class=\"dataframe\">\n",
       "  <thead>\n",
       "    <tr style=\"text-align: right;\">\n",
       "      <th>successful_sell</th>\n",
       "      <th>no</th>\n",
       "      <th>yes</th>\n",
       "      <th>total</th>\n",
       "      <th>conversion_rate</th>\n",
       "    </tr>\n",
       "    <tr>\n",
       "      <th>n4</th>\n",
       "      <th></th>\n",
       "      <th></th>\n",
       "      <th></th>\n",
       "      <th></th>\n",
       "    </tr>\n",
       "  </thead>\n",
       "  <tbody>\n",
       "    <tr>\n",
       "      <th>0</th>\n",
       "      <td>5</td>\n",
       "      <td>10</td>\n",
       "      <td>15</td>\n",
       "      <td>66.666667</td>\n",
       "    </tr>\n",
       "    <tr>\n",
       "      <th>1</th>\n",
       "      <td>18</td>\n",
       "      <td>8</td>\n",
       "      <td>26</td>\n",
       "      <td>30.769231</td>\n",
       "    </tr>\n",
       "    <tr>\n",
       "      <th>2</th>\n",
       "      <td>24</td>\n",
       "      <td>37</td>\n",
       "      <td>61</td>\n",
       "      <td>60.655738</td>\n",
       "    </tr>\n",
       "    <tr>\n",
       "      <th>3</th>\n",
       "      <td>141</td>\n",
       "      <td>298</td>\n",
       "      <td>439</td>\n",
       "      <td>67.881549</td>\n",
       "    </tr>\n",
       "    <tr>\n",
       "      <th>4</th>\n",
       "      <td>55</td>\n",
       "      <td>63</td>\n",
       "      <td>118</td>\n",
       "      <td>53.389831</td>\n",
       "    </tr>\n",
       "    <tr>\n",
       "      <th>5</th>\n",
       "      <td>17</td>\n",
       "      <td>29</td>\n",
       "      <td>46</td>\n",
       "      <td>63.043478</td>\n",
       "    </tr>\n",
       "    <tr>\n",
       "      <th>6</th>\n",
       "      <td>123</td>\n",
       "      <td>289</td>\n",
       "      <td>412</td>\n",
       "      <td>70.145631</td>\n",
       "    </tr>\n",
       "    <tr>\n",
       "      <th>7</th>\n",
       "      <td>20</td>\n",
       "      <td>40</td>\n",
       "      <td>60</td>\n",
       "      <td>66.666667</td>\n",
       "    </tr>\n",
       "    <tr>\n",
       "      <th>8</th>\n",
       "      <td>6</td>\n",
       "      <td>12</td>\n",
       "      <td>18</td>\n",
       "      <td>66.666667</td>\n",
       "    </tr>\n",
       "    <tr>\n",
       "      <th>9</th>\n",
       "      <td>29</td>\n",
       "      <td>35</td>\n",
       "      <td>64</td>\n",
       "      <td>54.687500</td>\n",
       "    </tr>\n",
       "    <tr>\n",
       "      <th>10</th>\n",
       "      <td>22</td>\n",
       "      <td>30</td>\n",
       "      <td>52</td>\n",
       "      <td>57.692308</td>\n",
       "    </tr>\n",
       "    <tr>\n",
       "      <th>11</th>\n",
       "      <td>13</td>\n",
       "      <td>15</td>\n",
       "      <td>28</td>\n",
       "      <td>53.571429</td>\n",
       "    </tr>\n",
       "    <tr>\n",
       "      <th>12</th>\n",
       "      <td>32</td>\n",
       "      <td>26</td>\n",
       "      <td>58</td>\n",
       "      <td>44.827586</td>\n",
       "    </tr>\n",
       "    <tr>\n",
       "      <th>13</th>\n",
       "      <td>8</td>\n",
       "      <td>28</td>\n",
       "      <td>36</td>\n",
       "      <td>77.777778</td>\n",
       "    </tr>\n",
       "    <tr>\n",
       "      <th>14</th>\n",
       "      <td>9</td>\n",
       "      <td>11</td>\n",
       "      <td>20</td>\n",
       "      <td>55.000000</td>\n",
       "    </tr>\n",
       "    <tr>\n",
       "      <th>15</th>\n",
       "      <td>8</td>\n",
       "      <td>16</td>\n",
       "      <td>24</td>\n",
       "      <td>66.666667</td>\n",
       "    </tr>\n",
       "    <tr>\n",
       "      <th>16</th>\n",
       "      <td>5</td>\n",
       "      <td>6</td>\n",
       "      <td>11</td>\n",
       "      <td>54.545455</td>\n",
       "    </tr>\n",
       "    <tr>\n",
       "      <th>17</th>\n",
       "      <td>6</td>\n",
       "      <td>2</td>\n",
       "      <td>8</td>\n",
       "      <td>25.000000</td>\n",
       "    </tr>\n",
       "    <tr>\n",
       "      <th>18</th>\n",
       "      <td>3</td>\n",
       "      <td>4</td>\n",
       "      <td>7</td>\n",
       "      <td>57.142857</td>\n",
       "    </tr>\n",
       "    <tr>\n",
       "      <th>19</th>\n",
       "      <td>2</td>\n",
       "      <td>1</td>\n",
       "      <td>3</td>\n",
       "      <td>33.333333</td>\n",
       "    </tr>\n",
       "    <tr>\n",
       "      <th>20</th>\n",
       "      <td>1</td>\n",
       "      <td>0</td>\n",
       "      <td>1</td>\n",
       "      <td>0.000000</td>\n",
       "    </tr>\n",
       "    <tr>\n",
       "      <th>21</th>\n",
       "      <td>0</td>\n",
       "      <td>2</td>\n",
       "      <td>2</td>\n",
       "      <td>100.000000</td>\n",
       "    </tr>\n",
       "    <tr>\n",
       "      <th>22</th>\n",
       "      <td>1</td>\n",
       "      <td>2</td>\n",
       "      <td>3</td>\n",
       "      <td>66.666667</td>\n",
       "    </tr>\n",
       "    <tr>\n",
       "      <th>25</th>\n",
       "      <td>0</td>\n",
       "      <td>1</td>\n",
       "      <td>1</td>\n",
       "      <td>100.000000</td>\n",
       "    </tr>\n",
       "    <tr>\n",
       "      <th>26</th>\n",
       "      <td>0</td>\n",
       "      <td>1</td>\n",
       "      <td>1</td>\n",
       "      <td>100.000000</td>\n",
       "    </tr>\n",
       "    <tr>\n",
       "      <th>27</th>\n",
       "      <td>0</td>\n",
       "      <td>1</td>\n",
       "      <td>1</td>\n",
       "      <td>100.000000</td>\n",
       "    </tr>\n",
       "    <tr>\n",
       "      <th>999</th>\n",
       "      <td>36000</td>\n",
       "      <td>3673</td>\n",
       "      <td>39673</td>\n",
       "      <td>9.258186</td>\n",
       "    </tr>\n",
       "  </tbody>\n",
       "</table>\n",
       "</div>"
      ],
      "text/plain": [
       "successful_sell     no   yes  total  conversion_rate\n",
       "n4                                                  \n",
       "0                    5    10     15        66.666667\n",
       "1                   18     8     26        30.769231\n",
       "2                   24    37     61        60.655738\n",
       "3                  141   298    439        67.881549\n",
       "4                   55    63    118        53.389831\n",
       "5                   17    29     46        63.043478\n",
       "6                  123   289    412        70.145631\n",
       "7                   20    40     60        66.666667\n",
       "8                    6    12     18        66.666667\n",
       "9                   29    35     64        54.687500\n",
       "10                  22    30     52        57.692308\n",
       "11                  13    15     28        53.571429\n",
       "12                  32    26     58        44.827586\n",
       "13                   8    28     36        77.777778\n",
       "14                   9    11     20        55.000000\n",
       "15                   8    16     24        66.666667\n",
       "16                   5     6     11        54.545455\n",
       "17                   6     2      8        25.000000\n",
       "18                   3     4      7        57.142857\n",
       "19                   2     1      3        33.333333\n",
       "20                   1     0      1         0.000000\n",
       "21                   0     2      2       100.000000\n",
       "22                   1     2      3        66.666667\n",
       "25                   0     1      1       100.000000\n",
       "26                   0     1      1       100.000000\n",
       "27                   0     1      1       100.000000\n",
       "999              36000  3673  39673         9.258186"
      ]
     },
     "execution_count": 303,
     "metadata": {},
     "output_type": "execute_result"
    }
   ],
   "source": [
    "x = conversion_table(data,'n4')\n",
    "x"
   ]
  },
  {
   "cell_type": "markdown",
   "id": "38f6ef29-04f4-41f8-a49c-c5bc44f7a5aa",
   "metadata": {},
   "source": [
    "### n5"
   ]
  },
  {
   "cell_type": "code",
   "execution_count": 246,
   "id": "68284729-b18e-4abe-8c63-207d3986d22b",
   "metadata": {},
   "outputs": [
    {
     "data": {
      "text/plain": [
       "<Axes: xlabel='n5', ylabel='Count'>"
      ]
     },
     "execution_count": 246,
     "metadata": {},
     "output_type": "execute_result"
    },
    {
     "data": {
      "image/png": "[encoded data removed]",
      "text/plain": [
       "<Figure size 640x480 with 1 Axes>"
      ]
     },
     "metadata": {},
     "output_type": "display_data"
    }
   ],
   "source": [
    "sns.histplot(data, x=\"n5\", hue=\"successful_sell\", multiple = 'stack')"
   ]
  },
  {
   "cell_type": "markdown",
   "id": "b073242f-2d31-4725-b419-c8f3e92856c5",
   "metadata": {},
   "source": [
    "### n6 "
   ]
  },
  {
   "cell_type": "code",
   "execution_count": 305,
   "id": "a4528a8d-1e99-4f78-b352-b4fd2804c07b",
   "metadata": {},
   "outputs": [
    {
     "data": {
      "text/html": [
       "<div>\n",
       "<style scoped>\n",
       "    .dataframe tbody tr th:only-of-type {\n",
       "        vertical-align: middle;\n",
       "    }\n",
       "\n",
       "    .dataframe tbody tr th {\n",
       "        vertical-align: top;\n",
       "    }\n",
       "\n",
       "    .dataframe thead th {\n",
       "        text-align: right;\n",
       "    }\n",
       "</style>\n",
       "<table border=\"1\" class=\"dataframe\">\n",
       "  <thead>\n",
       "    <tr style=\"text-align: right;\">\n",
       "      <th>successful_sell</th>\n",
       "      <th>no</th>\n",
       "      <th>yes</th>\n",
       "      <th>total</th>\n",
       "      <th>conversion_rate</th>\n",
       "    </tr>\n",
       "    <tr>\n",
       "      <th>n6</th>\n",
       "      <th></th>\n",
       "      <th></th>\n",
       "      <th></th>\n",
       "      <th></th>\n",
       "    </tr>\n",
       "  </thead>\n",
       "  <tbody>\n",
       "    <tr>\n",
       "      <th>0</th>\n",
       "      <td>32422</td>\n",
       "      <td>3141</td>\n",
       "      <td>35563</td>\n",
       "      <td>8.832213</td>\n",
       "    </tr>\n",
       "    <tr>\n",
       "      <th>1</th>\n",
       "      <td>3594</td>\n",
       "      <td>967</td>\n",
       "      <td>4561</td>\n",
       "      <td>21.201491</td>\n",
       "    </tr>\n",
       "    <tr>\n",
       "      <th>2</th>\n",
       "      <td>404</td>\n",
       "      <td>350</td>\n",
       "      <td>754</td>\n",
       "      <td>46.419098</td>\n",
       "    </tr>\n",
       "    <tr>\n",
       "      <th>3</th>\n",
       "      <td>88</td>\n",
       "      <td>128</td>\n",
       "      <td>216</td>\n",
       "      <td>59.259259</td>\n",
       "    </tr>\n",
       "    <tr>\n",
       "      <th>4</th>\n",
       "      <td>32</td>\n",
       "      <td>38</td>\n",
       "      <td>70</td>\n",
       "      <td>54.285714</td>\n",
       "    </tr>\n",
       "    <tr>\n",
       "      <th>5</th>\n",
       "      <td>5</td>\n",
       "      <td>13</td>\n",
       "      <td>18</td>\n",
       "      <td>72.222222</td>\n",
       "    </tr>\n",
       "    <tr>\n",
       "      <th>6</th>\n",
       "      <td>2</td>\n",
       "      <td>3</td>\n",
       "      <td>5</td>\n",
       "      <td>60.000000</td>\n",
       "    </tr>\n",
       "    <tr>\n",
       "      <th>7</th>\n",
       "      <td>1</td>\n",
       "      <td>0</td>\n",
       "      <td>1</td>\n",
       "      <td>0.000000</td>\n",
       "    </tr>\n",
       "  </tbody>\n",
       "</table>\n",
       "</div>"
      ],
      "text/plain": [
       "successful_sell     no   yes  total  conversion_rate\n",
       "n6                                                  \n",
       "0                32422  3141  35563         8.832213\n",
       "1                 3594   967   4561        21.201491\n",
       "2                  404   350    754        46.419098\n",
       "3                   88   128    216        59.259259\n",
       "4                   32    38     70        54.285714\n",
       "5                    5    13     18        72.222222\n",
       "6                    2     3      5        60.000000\n",
       "7                    1     0      1         0.000000"
      ]
     },
     "execution_count": 305,
     "metadata": {},
     "output_type": "execute_result"
    }
   ],
   "source": [
    "x = conversion_table(data,'n6')\n",
    "x"
   ]
  },
  {
   "cell_type": "code",
   "execution_count": 306,
   "id": "0b37cdb4-d7eb-4ad0-8c84-9c1864ce4f2b",
   "metadata": {},
   "outputs": [],
   "source": [
    "plot_data = conversion_table(data,'n6')"
   ]
  },
  {
   "cell_type": "code",
   "execution_count": 307,
   "id": "53045838-ca03-4d5d-8eb8-c068aed19f6c",
   "metadata": {},
   "outputs": [
    {
     "data": {
      "image/png": "[encoded data removed]",
      "text/plain": [
       "<Figure size 640x480 with 2 Axes>"
      ]
     },
     "metadata": {},
     "output_type": "display_data"
    }
   ],
   "source": [
    "barlineplot(plot_data)"
   ]
  },
  {
   "cell_type": "markdown",
   "id": "0707fc79-eace-423d-bbf7-54102c77e061",
   "metadata": {},
   "source": [
    "### Amount of school"
   ]
  },
  {
   "cell_type": "code",
   "execution_count": 102,
   "id": "8a8d85fa-df34-4dab-9200-1a2ad68ed62d",
   "metadata": {},
   "outputs": [
    {
     "data": {
      "text/html": [
       "<div>\n",
       "<style scoped>\n",
       "    .dataframe tbody tr th:only-of-type {\n",
       "        vertical-align: middle;\n",
       "    }\n",
       "\n",
       "    .dataframe tbody tr th {\n",
       "        vertical-align: top;\n",
       "    }\n",
       "\n",
       "    .dataframe thead th {\n",
       "        text-align: right;\n",
       "    }\n",
       "</style>\n",
       "<table border=\"1\" class=\"dataframe\">\n",
       "  <thead>\n",
       "    <tr style=\"text-align: right;\">\n",
       "      <th>successful_sell</th>\n",
       "      <th>no</th>\n",
       "      <th>yes</th>\n",
       "      <th>total</th>\n",
       "      <th>conversion_rate</th>\n",
       "    </tr>\n",
       "    <tr>\n",
       "      <th>school</th>\n",
       "      <th></th>\n",
       "      <th></th>\n",
       "      <th></th>\n",
       "      <th></th>\n",
       "    </tr>\n",
       "  </thead>\n",
       "  <tbody>\n",
       "    <tr>\n",
       "      <th>0 - none</th>\n",
       "      <td>14</td>\n",
       "      <td>4</td>\n",
       "      <td>18</td>\n",
       "      <td>22.222222</td>\n",
       "    </tr>\n",
       "    <tr>\n",
       "      <th>1 - almost none</th>\n",
       "      <td>3748</td>\n",
       "      <td>428</td>\n",
       "      <td>4176</td>\n",
       "      <td>10.249042</td>\n",
       "    </tr>\n",
       "    <tr>\n",
       "      <th>2 - a little bit</th>\n",
       "      <td>2104</td>\n",
       "      <td>188</td>\n",
       "      <td>2292</td>\n",
       "      <td>8.202443</td>\n",
       "    </tr>\n",
       "    <tr>\n",
       "      <th>3 - a bit more</th>\n",
       "      <td>5572</td>\n",
       "      <td>473</td>\n",
       "      <td>6045</td>\n",
       "      <td>7.824648</td>\n",
       "    </tr>\n",
       "    <tr>\n",
       "      <th>4 - average amount</th>\n",
       "      <td>8484</td>\n",
       "      <td>1031</td>\n",
       "      <td>9515</td>\n",
       "      <td>10.835523</td>\n",
       "    </tr>\n",
       "    <tr>\n",
       "      <th>5 - a decent amount</th>\n",
       "      <td>4648</td>\n",
       "      <td>595</td>\n",
       "      <td>5243</td>\n",
       "      <td>11.348465</td>\n",
       "    </tr>\n",
       "    <tr>\n",
       "      <th>5 - a lot</th>\n",
       "      <td>10498</td>\n",
       "      <td>1670</td>\n",
       "      <td>12168</td>\n",
       "      <td>13.724523</td>\n",
       "    </tr>\n",
       "    <tr>\n",
       "      <th>NaN</th>\n",
       "      <td>1480</td>\n",
       "      <td>251</td>\n",
       "      <td>1731</td>\n",
       "      <td>14.500289</td>\n",
       "    </tr>\n",
       "  </tbody>\n",
       "</table>\n",
       "</div>"
      ],
      "text/plain": [
       "successful_sell         no   yes  total  conversion_rate\n",
       "school                                                  \n",
       "0 - none                14     4     18        22.222222\n",
       "1 - almost none       3748   428   4176        10.249042\n",
       "2 - a little bit      2104   188   2292         8.202443\n",
       "3 - a bit more        5572   473   6045         7.824648\n",
       "4 - average amount    8484  1031   9515        10.835523\n",
       "5 - a decent amount   4648   595   5243        11.348465\n",
       "5 - a lot            10498  1670  12168        13.724523\n",
       "NaN                   1480   251   1731        14.500289"
      ]
     },
     "execution_count": 102,
     "metadata": {},
     "output_type": "execute_result"
    }
   ],
   "source": [
    "conversion_table(data,'school')"
   ]
  },
  {
   "cell_type": "code",
   "execution_count": 328,
   "id": "65514aac-6046-45c8-a96e-a97c507af3d7",
   "metadata": {},
   "outputs": [],
   "source": [
    "plot_data = conversion_table(data,'school')\n",
    "plot_data.index = pd.Series(plot_data.index).replace(np.nan, 'Uknown')"
   ]
  },
  {
   "cell_type": "code",
   "execution_count": 329,
   "id": "9aa18dda-b526-4046-acf0-cd1b3b3eb7ff",
   "metadata": {},
   "outputs": [
    {
     "data": {
      "image/png": "[encoded data removed]",
      "text/plain": [
       "<Figure size 640x480 with 2 Axes>"
      ]
     },
     "metadata": {},
     "output_type": "display_data"
    }
   ],
   "source": [
    "barlineplot(plot_data,100)"
   ]
  },
  {
   "cell_type": "code",
   "execution_count": null,
   "id": "b5ea21f4-b010-4563-a38f-709192e50b83",
   "metadata": {},
   "outputs": [],
   "source": []
  }
 ],
 "metadata": {
  "kernelspec": {
   "display_name": "Python 3 (ipykernel)",
   "language": "python",
   "name": "python3"
  },
  "language_info": {
   "codemirror_mode": {
    "name": "ipython",
    "version": 3
   },
   "file_extension": ".py",
   "mimetype": "text/x-python",
   "name": "python",
   "nbconvert_exporter": "python",
   "pygments_lexer": "ipython3",
   "version": "3.10.15"
  }
 },
 "nbformat": 4,
 "nbformat_minor": 5
}
